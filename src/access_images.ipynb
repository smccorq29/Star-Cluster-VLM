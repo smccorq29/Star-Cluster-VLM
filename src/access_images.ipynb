{
 "cells": [
  {
   "cell_type": "code",
   "execution_count": 1,
   "metadata": {},
   "outputs": [
    {
     "name": "stderr",
     "output_type": "stream",
     "text": [
      "WARNING: Ignoring invalid distribution ~ (C:\\Python312\\Lib\\site-packages)\n",
      "WARNING: Ignoring invalid distribution ~ip (C:\\Python312\\Lib\\site-packages)\n",
      "WARNING: Ignoring invalid distribution ~~p (C:\\Python312\\Lib\\site-packages)\n",
      "WARNING: Ignoring invalid distribution ~ (C:\\Python312\\Lib\\site-packages)\n",
      "WARNING: Ignoring invalid distribution ~ip (C:\\Python312\\Lib\\site-packages)\n",
      "WARNING: Ignoring invalid distribution ~~p (C:\\Python312\\Lib\\site-packages)\n",
      "WARNING: Ignoring invalid distribution ~ (C:\\Python312\\Lib\\site-packages)\n",
      "WARNING: Ignoring invalid distribution ~ip (C:\\Python312\\Lib\\site-packages)\n",
      "WARNING: Ignoring invalid distribution ~~p (C:\\Python312\\Lib\\site-packages)\n"
     ]
    },
    {
     "name": "stdout",
     "output_type": "stream",
     "text": [
      "Requirement already satisfied: dust_extinction in c:\\python312\\lib\\site-packages (1.5)\n",
      "Requirement already satisfied: astropy in c:\\python312\\lib\\site-packages (from dust_extinction) (6.1.4)\n",
      "Requirement already satisfied: scipy in c:\\python312\\lib\\site-packages (from dust_extinction) (1.14.1)\n",
      "Requirement already satisfied: numpy>=1.23 in c:\\users\\seanm\\appdata\\roaming\\python\\python312\\site-packages (from astropy->dust_extinction) (2.0.2)\n",
      "Requirement already satisfied: pyerfa>=2.0.1.1 in c:\\python312\\lib\\site-packages (from astropy->dust_extinction) (2.0.1.4)\n",
      "Requirement already satisfied: astropy-iers-data>=0.2024.8.27.10.28.29 in c:\\python312\\lib\\site-packages (from astropy->dust_extinction) (0.2024.10.21.0.33.21)\n",
      "Requirement already satisfied: PyYAML>=3.13 in c:\\users\\seanm\\appdata\\roaming\\python\\python312\\site-packages (from astropy->dust_extinction) (6.0.2)\n",
      "Requirement already satisfied: packaging>=19.0 in c:\\users\\seanm\\appdata\\roaming\\python\\python312\\site-packages (from astropy->dust_extinction) (24.1)\n"
     ]
    }
   ],
   "source": [
    "# packages needed to for file management,\n",
    "# downloading and unpacking compressed catalogs.\n",
    "\n",
    "from urllib3 import PoolManager\n",
    "\n",
    "\n",
    "# basic packages for data handling and plotting\n",
    "import numpy as np\n",
    "\n",
    "import matplotlib.pyplot as plt\n",
    "from matplotlib.colors import LogNorm\n",
    "import random\n",
    "from datasets import Dataset, Image\n",
    "import torch\n",
    "from torchvision.transforms import ToTensor\n",
    "\n",
    "from astropy.io import fits\n",
    "from astropy.table import Table\n",
    "\n",
    "from astropy.coordinates import SkyCoord\n",
    "from astropy.wcs import WCS\n",
    "from astropy.stats import sigma_clipped_stats\n",
    "\n",
    "from scipy.constants import c as speed_of_light\n",
    "\n",
    "# we download a file with multiple helpfull methods from the same git repository.\n",
    "# These functions are well documented to facilitate further reading.\n",
    "helper_func_url = 'https://raw.githubusercontent.com/DanielMaschmann/PHANGS_HST_star_cluster/main/helper_func.py'\n",
    "# Download file. This will save them in the working directory.\n",
    "http = PoolManager()\n",
    "http_request_object = http.request('GET', helper_func_url, preload_content=False)\n",
    "with open('helper_func.py', 'wb') as out:\n",
    "    while True:\n",
    "        data = http_request_object.read()\n",
    "        if not data:\n",
    "            break\n",
    "        out.write(data)\n",
    "\n",
    "!pip install dust_extinction\n",
    "\n",
    "# in case of updates\n",
    "%load_ext autoreload\n",
    "%autoreload 2\n",
    "import importlib\n",
    "import helper_func as helper_func\n",
    "mylibrary = importlib.reload(helper_func)"
   ]
  },
  {
   "cell_type": "code",
   "execution_count": 2,
   "metadata": {},
   "outputs": [],
   "source": [
    "# we use NGC ngc1097 as an example\n",
    "galaxy_name = 'ngc1097'"
   ]
  },
  {
   "cell_type": "code",
   "execution_count": 3,
   "metadata": {},
   "outputs": [],
   "source": [
    "# some galaxies have HST image mosaics. Therefore the file names can change!\n",
    "mosaic_flag = True\n",
    "if mosaic_flag:\n",
    "  bundle_file_name = galaxy_name + 'mosaic'\n",
    "else:\n",
    "  bundle_file_name = galaxy_name"
   ]
  },
  {
   "cell_type": "code",
   "execution_count": 4,
   "metadata": {},
   "outputs": [],
   "source": [
    "fits_table = Table.read('../data/candidate_table_%s.fits' % galaxy_name)"
   ]
  },
  {
   "cell_type": "code",
   "execution_count": 5,
   "metadata": {},
   "outputs": [],
   "source": [
    "filtered_table = fits_table[~fits_table['PHANGS_CLUSTER_CLASS_HUMAN'].mask] \n",
    "filtered_table.write(\"../data/valid_detections.fits\", overwrite=True)\n",
    "\n",
    "filtered_table['PHANGS_CLUSTER_CLASS_HUMAN'] = [\n",
    "    min(value, 4) for value in filtered_table['PHANGS_CLUSTER_CLASS_HUMAN']\n",
    "]\n",
    "filtered_table.write(\"../data/filtered_file.fits\", overwrite=True)"
   ]
  },
  {
   "cell_type": "code",
   "execution_count": 6,
   "metadata": {},
   "outputs": [],
   "source": [
    "# get all data we need for the following examples\n",
    "# coordinates\n",
    "ra_hum_cl1234, dec_hum_cl1234 = filtered_table['PHANGS_RA'], filtered_table['PHANGS_DEC']\n",
    "\n",
    "# morphological classification\n",
    "class_human_hum_cl1234 = filtered_table['PHANGS_CLUSTER_CLASS_HUMAN']"
   ]
  },
  {
   "cell_type": "code",
   "execution_count": 7,
   "metadata": {},
   "outputs": [
    {
     "name": "stderr",
     "output_type": "stream",
     "text": [
      "C:\\Users\\SEANM\\AppData\\Local\\Temp\\ipykernel_28068\\3871222887.py:25: RuntimeWarning: divide by zero encountered in divide\n",
      "  v_band_err_data = 1 / np.sqrt(v_band_invers_var_data)\n"
     ]
    }
   ],
   "source": [
    "# load the downloaded images\n",
    "v_band_img_hdu = fits.open('%s/hlsp_phangs-hst_hst_wfc3-uvis_%s_f555w_v1_exp-drc-sci.fits' % (bundle_file_name, bundle_file_name))\n",
    "v_band_img_header = v_band_img_hdu[0].header\n",
    "v_band_img_data = v_band_img_hdu[0].data\n",
    "v_band_img_wcs = WCS(v_band_img_header)\n",
    "\n",
    "# change the image data from electron counts to units of Jy\n",
    "# wavelength in angstrom\n",
    "pivot_wavelength = v_band_img_header['PHOTPLAM']\n",
    "# inverse sensitivity, ergs/cm2/Ang/electron\n",
    "sensitivity = v_band_img_header['PHOTFLAM']\n",
    "# speed of light in Angstrom/s\n",
    "c = speed_of_light * 1e10\n",
    "# change the conversion facto to get erg s−1 cm−2 Hz−1\n",
    "f_nu = sensitivity * pivot_wavelength ** 2 / c\n",
    "# change to get Jy\n",
    "conversion_factor = f_nu * 1e23\n",
    "# apply the conversion factor to the data\n",
    "v_band_img_data *= conversion_factor\n",
    "\n",
    "# this is not used in this tutorial but for completeness here we will load the uncertainty maps\n",
    "v_band_invers_var_hdu = fits.open('%s/hlsp_phangs-hst_hst_wfc3-uvis_%s_f555w_v1_err-drc-wht.fits' % (bundle_file_name, bundle_file_name))\n",
    "v_band_invers_var_data = v_band_invers_var_hdu[0].data\n",
    "# the uncertainties are stored as inverse variance so we need to convert them into the standard deviation.\n",
    "v_band_err_data = 1 / np.sqrt(v_band_invers_var_data)\n",
    "# and again we need to apply the conversion factor to these data\n",
    "v_band_err_data *= conversion_factor\n",
    "\n"
   ]
  },
  {
   "cell_type": "code",
   "execution_count": 8,
   "metadata": {},
   "outputs": [
    {
     "data": {
      "text/plain": [
       "\"\\nax_img.scatter(coords_hum_cl1234_pix[0][class_human_hum_cl1234==1],\\n               coords_hum_cl1234_pix[1][class_human_hum_cl1234==1],\\n               facecolor='None', edgecolor='tab:red', linewidth=1,\\n               label='Class 1')\\nax_img.scatter(coords_hum_cl1234_pix[0][class_human_hum_cl1234==2],\\n               coords_hum_cl1234_pix[1][class_human_hum_cl1234==2],\\n               facecolor='None', edgecolor='tab:orange', linewidth=1,\\n               label='Class 2')\\nax_img.scatter(coords_hum_cl1234_pix[0][class_human_hum_cl1234==3],\\n               coords_hum_cl1234_pix[1][class_human_hum_cl1234==3],\\n               facecolor='None', edgecolor='tab:blue', linewidth=1,\\n               label='Class 3')\\nax_img.scatter(coords_hum_cl1234_pix[0][class_human_hum_cl1234==4],\\n               coords_hum_cl1234_pix[1][class_human_hum_cl1234==4],\\n               facecolor='None', edgecolor='tab:green', linewidth=1,\\n               label='Class 4')\\n\\nax_img.legend()\\n\""
      ]
     },
     "execution_count": 8,
     "metadata": {},
     "output_type": "execute_result"
    }
   ],
   "source": [
    "# in order to visualize the image we calculate some states of the image and calculate a strech.\n",
    "mean, median, std = sigma_clipped_stats(v_band_img_data, sigma=3.0)\n",
    "norm = LogNorm(0.1*std, median + 100*std)\n",
    "\"\"\"\n",
    "figure = plt.figure(figsize=(10, 10))\n",
    "ax_img = figure.add_axes([0.05, 0.05 , 0.94, 0.94], projection=v_band_img_wcs)\n",
    "ax_img.imshow(v_band_img_data, cmap='Greys', norm=norm)\n",
    "\"\"\"\n",
    "coords_hum_cl1234 = SkyCoord(ra=ra_hum_cl1234, dec=dec_hum_cl1234)\n",
    "coords_hum_cl1234_pix = v_band_img_wcs.world_to_pixel(coords_hum_cl1234)\n",
    "\"\"\"\n",
    "ax_img.scatter(coords_hum_cl1234_pix[0][class_human_hum_cl1234==1],\n",
    "               coords_hum_cl1234_pix[1][class_human_hum_cl1234==1],\n",
    "               facecolor='None', edgecolor='tab:red', linewidth=1,\n",
    "               label='Class 1')\n",
    "ax_img.scatter(coords_hum_cl1234_pix[0][class_human_hum_cl1234==2],\n",
    "               coords_hum_cl1234_pix[1][class_human_hum_cl1234==2],\n",
    "               facecolor='None', edgecolor='tab:orange', linewidth=1,\n",
    "               label='Class 2')\n",
    "ax_img.scatter(coords_hum_cl1234_pix[0][class_human_hum_cl1234==3],\n",
    "               coords_hum_cl1234_pix[1][class_human_hum_cl1234==3],\n",
    "               facecolor='None', edgecolor='tab:blue', linewidth=1,\n",
    "               label='Class 3')\n",
    "ax_img.scatter(coords_hum_cl1234_pix[0][class_human_hum_cl1234==4],\n",
    "               coords_hum_cl1234_pix[1][class_human_hum_cl1234==4],\n",
    "               facecolor='None', edgecolor='tab:green', linewidth=1,\n",
    "               label='Class 4')\n",
    "\n",
    "ax_img.legend()\n",
    "\"\"\""
   ]
  },
  {
   "cell_type": "code",
   "execution_count": 9,
   "metadata": {},
   "outputs": [],
   "source": [
    "# cutout of random class 1, 2, 3 clusters\n",
    "mask_class1 = class_human_hum_cl1234 == 1\n",
    "mask_class2 = class_human_hum_cl1234 == 2\n",
    "mask_class3 = class_human_hum_cl1234 == 3\n",
    "mask_class4 = class_human_hum_cl1234 == 4\n",
    "\n",
    "coord_bright_class1 = coords_hum_cl1234[mask_class1][101]\n",
    "coord_bright_class2 = coords_hum_cl1234[mask_class2][13]\n",
    "coord_bright_class3 = coords_hum_cl1234[mask_class3][1]\n",
    "coord_bright_class4 = coords_hum_cl1234[mask_class4][0]\n",
    "\n",
    "cutout_bright_class1 = helper_func.get_img_cutout(img=v_band_img_data,\n",
    "                                                  wcs=v_band_img_wcs,\n",
    "                                                  coord=coord_bright_class1,\n",
    "                                                  cutout_size=(2, 2))\n",
    "cutout_bright_class2 = helper_func.get_img_cutout(img=v_band_img_data,\n",
    "                                                  wcs=v_band_img_wcs,\n",
    "                                                  coord=coord_bright_class2,\n",
    "                                                  cutout_size=(2, 2))\n",
    "cutout_bright_class3 = helper_func.get_img_cutout(img=v_band_img_data,\n",
    "                                                  wcs=v_band_img_wcs,\n",
    "                                                  coord=coord_bright_class3,\n",
    "                                                  cutout_size=(2, 2))\n",
    "cutout_bright_class4 = helper_func.get_img_cutout(img=v_band_img_data,\n",
    "                                                  wcs=v_band_img_wcs,\n",
    "                                                  coord=coord_bright_class4,\n",
    "                                                  cutout_size=(2, 2))"
   ]
  },
  {
   "cell_type": "code",
   "execution_count": 10,
   "metadata": {},
   "outputs": [],
   "source": [
    "%%capture\n",
    "figure_cutouts = plt.figure(figsize=(40, 10))\n",
    "\n",
    "ax_cutout_class1 = figure_cutouts.add_axes([0.01, 0.05, 0.23, 0.94], projection=cutout_bright_class1.wcs)\n",
    "ax_cutout_class2 = figure_cutouts.add_axes([0.26, 0.05, 0.23, 0.94], projection=cutout_bright_class2.wcs)\n",
    "ax_cutout_class3 = figure_cutouts.add_axes([0.51, 0.05, 0.23, 0.94], projection=cutout_bright_class3.wcs)\n",
    "ax_cutout_class4 = figure_cutouts.add_axes([0.76, 0.05, 0.23, 0.94], projection=cutout_bright_class4.wcs)\n",
    "\n",
    "ax_cutout_class1.imshow(cutout_bright_class1.data, norm=LogNorm(), cmap='Greys')\n",
    "ax_cutout_class2.imshow(cutout_bright_class2.data, norm=LogNorm(), cmap='Greys')\n",
    "ax_cutout_class3.imshow(cutout_bright_class3.data, norm=LogNorm(), cmap='Greys')\n",
    "ax_cutout_class4.imshow(cutout_bright_class4.data, norm=LogNorm(), cmap='Greys')\n",
    "\n",
    "ax_cutout_class1.set_title('Class 1', fontsize=30)\n",
    "ax_cutout_class2.set_title('Class 2', fontsize=30)\n",
    "ax_cutout_class3.set_title('Class 3', fontsize=30)\n",
    "ax_cutout_class4.set_title('Class 4', fontsize=30)"
   ]
  },
  {
   "cell_type": "code",
   "execution_count": 11,
   "metadata": {},
   "outputs": [
    {
     "name": "stdout",
     "output_type": "stream",
     "text": [
      "class1: 417 available cutouts\n",
      "class2: 198 available cutouts\n",
      "class3: 159 available cutouts\n",
      "class4: 408 available cutouts\n"
     ]
    }
   ],
   "source": [
    "# Get all coordinates for each class\n",
    "coords_class1 = coords_hum_cl1234[mask_class1]\n",
    "coords_class2 = coords_hum_cl1234[mask_class2]\n",
    "coords_class3 = coords_hum_cl1234[mask_class3]\n",
    "coords_class4 = coords_hum_cl1234[mask_class4]\n",
    "\n",
    "# Count the number of available cutouts (i.e., the number of coordinates) for each class\n",
    "class_counts = {\n",
    "    \"class1\": len(coords_class1),\n",
    "    \"class2\": len(coords_class2),\n",
    "    \"class3\": len(coords_class3),\n",
    "    \"class4\": len(coords_class4),\n",
    "}\n",
    "\n",
    "# Print the number of available cutouts per class\n",
    "for class_name, count in class_counts.items():\n",
    "    print(f\"{class_name}: {count} available cutouts\")"
   ]
  },
  {
   "cell_type": "code",
   "execution_count": 12,
   "metadata": {},
   "outputs": [],
   "source": [
    "import matplotlib.pyplot as plt\n",
    "from matplotlib.colors import LogNorm\n",
    "import random\n",
    "\n",
    "def get_cutouts(size):\n",
    "\n",
    "    # Determine available sizes\n",
    "    available_class1 = len(coords_class1)\n",
    "    available_class2 = len(coords_class2)\n",
    "    available_class3 = len(coords_class3)\n",
    "    available_class4 = len(coords_class4)\n",
    "    \n",
    "    total_available = available_class1 + available_class2 + available_class3 + available_class4\n",
    "    size = min(size, total_available)  # Ensure we don't exceed available images\n",
    "    \n",
    "    # Randomly distribute the requested size across classes\n",
    "    class_sizes = random.choices([\"class1\", \"class2\", \"class3\", \"class4\"], k=size)\n",
    "    count_class1 = class_sizes.count(\"class1\")\n",
    "    count_class2 = class_sizes.count(\"class2\")\n",
    "    count_class3 = class_sizes.count(\"class3\")\n",
    "    count_class4 = class_sizes.count(\"class4\")\n",
    "    \n",
    "    # Extract random cutouts\n",
    "    cutouts_class1 = [\n",
    "        helper_func.get_img_cutout(img=v_band_img_data, wcs=v_band_img_wcs, coord=coords_class1[i], cutout_size=(2, 2))\n",
    "        for i in random.sample(range(available_class1), min(count_class1, available_class1))\n",
    "    ]\n",
    "    \n",
    "    cutouts_class2 = [\n",
    "        helper_func.get_img_cutout(img=v_band_img_data, wcs=v_band_img_wcs, coord=coords_class2[i], cutout_size=(2, 2))\n",
    "        for i in random.sample(range(available_class2), min(count_class2, available_class2))\n",
    "    ]\n",
    "    \n",
    "    cutouts_class3 = [\n",
    "        helper_func.get_img_cutout(img=v_band_img_data, wcs=v_band_img_wcs, coord=coords_class3[i], cutout_size=(2, 2))\n",
    "        for i in random.sample(range(available_class3), min(count_class3, available_class3))\n",
    "    ]\n",
    "\n",
    "    cutouts_class4 = [\n",
    "        helper_func.get_img_cutout(img=v_band_img_data, wcs=v_band_img_wcs, coord=coords_class4[i], cutout_size=(2, 2))\n",
    "        for i in random.sample(range(available_class4), min(count_class4, available_class4))\n",
    "    ]\n",
    "    \n",
    "    # Organize images and labels into a list\n",
    "    dataset = []\n",
    "    dataset.extend([(cutout.data, \"class1\") for cutout in cutouts_class1])\n",
    "    dataset.extend([(cutout.data, \"class2\") for cutout in cutouts_class2])\n",
    "    dataset.extend([(cutout.data, \"class3\") for cutout in cutouts_class3])\n",
    "    dataset.extend([(cutout.data, \"class4\") for cutout in cutouts_class4])\n",
    "    \n",
    "    dataset\n",
    "\n",
    "    return dataset"
   ]
  },
  {
   "cell_type": "code",
   "execution_count": 13,
   "metadata": {},
   "outputs": [
    {
     "data": {
      "image/png": "[encoded data removed]",
      "text/plain": [
       "<Figure size 1500x500 with 5 Axes>"
      ]
     },
     "metadata": {},
     "output_type": "display_data"
    }
   ],
   "source": [
    "def test_get_cutouts():\n",
    "    sample_size = 10  \n",
    "    dataset = get_cutouts(sample_size)\n",
    "    \n",
    "    selected_images = random.sample(dataset, min(5, len(dataset)))\n",
    "\n",
    "    fig, axes = plt.subplots(1, len(selected_images), figsize=(15, 5))\n",
    "    for ax, (image, label) in zip(axes, selected_images):\n",
    "        ax.imshow(image, cmap=\"Greys\", norm=LogNorm())\n",
    "        ax.set_title(label)\n",
    "        ax.axis(\"off\")\n",
    "    plt.show()\n",
    "\n",
    "# Run test\n",
    "test_get_cutouts()\n"
   ]
  }
 ],
 "metadata": {
  "kernelspec": {
   "display_name": "Python 3",
   "language": "python",
   "name": "python3"
  },
  "language_info": {
   "codemirror_mode": {
    "name": "ipython",
    "version": 3
   },
   "file_extension": ".py",
   "mimetype": "text/x-python",
   "name": "python",
   "nbconvert_exporter": "python",
   "pygments_lexer": "ipython3",
   "version": "3.12.2"
  }
 },
 "nbformat": 4,
 "nbformat_minor": 2
}
