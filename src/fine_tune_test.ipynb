{
 "cells": [
  {
   "cell_type": "code",
   "execution_count": 132,
   "metadata": {},
   "outputs": [],
   "source": [
    "%%capture\n",
    "import import_ipynb\n",
    "from access_images import get_cutouts\n"
   ]
  },
  {
   "cell_type": "code",
   "execution_count": 133,
   "metadata": {},
   "outputs": [],
   "source": [
    "# imports libraries for data storage, and ML models & processors for classification\n",
    "import matplotlib.pyplot as plt\n",
    "from matplotlib.colors import LogNorm\n",
    "from sklearn import metrics\n",
    "from tqdm.auto import tqdm\n",
    "from datasets import load_dataset\n",
    "\n",
    "from PIL import Image\n",
    "import numpy as np\n",
    "import torch\n",
    "import json\n",
    "import os\n",
    "\n",
    "from transformers import CLIPTokenizerFast, CLIPProcessor, CLIPModel"
   ]
  },
  {
   "cell_type": "code",
   "execution_count": 134,
   "metadata": {},
   "outputs": [
    {
     "data": {
      "application/vnd.jupyter.widget-view+json": {
       "model_id": "be9b56de12ee42208e4ac1051afd64e2",
       "version_major": 2,
       "version_minor": 0
      },
      "text/plain": [
       "Resolving data files:   0%|          | 0/237 [00:00<?, ?it/s]"
      ]
     },
     "metadata": {},
     "output_type": "display_data"
    },
    {
     "name": "stdout",
     "output_type": "stream",
     "text": [
      "[0, 0, 0, 0, 0, 0, 0, 0, 0, 0, 0, 0, 0, 0, 0, 0, 0, 0, 0, 0, 0, 0, 0, 0, 0, 0, 0, 0, 0, 0, 0, 0, 0, 0, 0, 0, 0, 0, 0, 0, 0, 0, 0, 0, 0, 0, 0, 0, 0, 0, 0, 0, 0, 0, 0, 0, 0, 0, 0, 0, 0, 0, 0, 0, 0, 0, 0, 0, 0, 0, 0, 0, 0, 0, 0, 0, 0, 0, 0, 0, 0, 0, 0, 0, 1, 1, 1, 2, 2, 2, 2, 3, 3, 3, 3, 3, 3, 3, 3, 3, 3, 3, 3, 3, 4, 5, 5, 5, 5, 5, 5, 5, 5, 5, 5, 5, 5, 5, 5, 5, 5, 5, 5, 5, 5, 5, 5, 5, 5, 5, 5, 5, 5, 5, 5, 5, 5, 5, 5, 5, 5, 5, 5, 5, 5, 6, 6, 6, 6, 6, 6, 6, 6, 6, 6, 6, 6, 6, 6, 6, 6, 6, 6, 6, 6, 6, 6, 6, 6, 6, 6, 6, 6, 6, 6, 6, 6, 7, 7, 7, 7, 7, 7, 8, 8, 8, 8, 8, 8, 8, 8, 8, 8, 8, 8, 8, 9, 10, 10, 10, 10, 10, 10, 10, 10, 10, 10, 10, 10, 10, 10, 10, 10, 10, 10, 10, 10, 10, 10, 10, 10, 10, 10, 10, 10, 10, 10, 10, 10, 10, 10, 10, 10, 11, 11, 12, 12]\n"
     ]
    }
   ],
   "source": [
    "\n",
    "dataset_path = \"../data/sorted/test_pngs\"\n",
    "\n",
    "dataset = load_dataset(\"imagefolder\", data_dir=dataset_path)\n",
    "\n",
    "\n",
    "\n",
    "# Inspect dataset structure\n",
    "print(dataset['train']['label'])\n"
   ]
  },
  {
   "cell_type": "code",
   "execution_count": null,
   "metadata": {},
   "outputs": [],
   "source": [
    "# Folders are read alphabetically, not in numerical order \n",
    "label_to_label = {\n",
    "    \"0\": \"1\",\n",
    "    \"1\": \"4\",\n",
    "    \"2\": \"4\",\n",
    "    \"3\": \"4\",\n",
    "    \"4\": \"4\",\n",
    "    \"5\": \"2\",\n",
    "    \"6\": \"3\",\n",
    "    \"7\": \"4\",\n",
    "    \"8\": \"4\",\n",
    "    \"9\": \"4\",\n",
    "    \"10\": \"4\",\n",
    "    \"11\": \"4\",\n",
    "    \"12\": \"4\"\n",
    "}"
   ]
  },
  {
   "cell_type": "code",
   "execution_count": 137,
   "metadata": {},
   "outputs": [
    {
     "name": "stdout",
     "output_type": "stream",
     "text": [
      "[1, 1, 1, 1, 1, 1, 1, 1, 1, 1, 1, 1, 1, 1, 1, 1, 1, 1, 1, 1, 1, 1, 1, 1, 1, 1, 1, 1, 1, 1, 1, 1, 1, 1, 1, 1, 1, 1, 1, 1, 1, 1, 1, 1, 1, 1, 1, 1, 1, 1, 1, 1, 1, 1, 1, 1, 1, 1, 1, 1, 1, 1, 1, 1, 1, 1, 1, 1, 1, 1, 1, 1, 1, 1, 1, 1, 1, 1, 1, 1, 1, 1, 1, 1, 4, 4, 4, 4, 4, 4, 4, 4, 4, 4, 4, 4, 4, 4, 4, 4, 4, 4, 4, 4, 4, 2, 2, 2, 2, 2, 2, 2, 2, 2, 2, 2, 2, 2, 2, 2, 2, 2, 2, 2, 2, 2, 2, 2, 2, 2, 2, 2, 2, 2, 2, 2, 2, 2, 2, 2, 2, 2, 2, 2, 2, 3, 3, 3, 3, 3, 3, 3, 3, 3, 3, 3, 3, 3, 3, 3, 3, 3, 3, 3, 3, 3, 3, 3, 3, 3, 3, 3, 3, 3, 3, 3, 3, 4, 4, 4, 4, 4, 4, 4, 4, 4, 4, 4, 4, 4, 4, 4, 4, 4, 4, 4, 4, 4, 4, 4, 4, 4, 4, 4, 4, 4, 4, 4, 4, 4, 4, 4, 4, 4, 4, 4, 4, 4, 4, 4, 4, 4, 4, 4, 4, 4, 4, 4, 4, 4, 4, 4, 4, 4, 4, 4, 4]\n"
     ]
    }
   ],
   "source": [
    "def add_label(example):\n",
    "    folder_name = example[\"label\"]  # Label corresponds to folder name (numerical)\n",
    "    example[\"label\"] = label_to_label.get(str(folder_name), \"Unknown Object\")\n",
    "    return example\n",
    "\n",
    "# Apply the function\n",
    "\n",
    "test_dataset = dataset['train']\n",
    "test_dataset = test_dataset.map(add_label)\n",
    "\n",
    "print(test_dataset['label'])"
   ]
  },
  {
   "cell_type": "code",
   "execution_count": null,
   "metadata": {},
   "outputs": [
    {
     "data": {
      "image/png": "[encoded data removed]",
      "text/plain": [
       "<Figure size 640x480 with 1 Axes>"
      ]
     },
     "metadata": {},
     "output_type": "display_data"
    }
   ],
   "source": [
    "import numpy as np\n",
    "import matplotlib.pyplot as plt\n",
    "from PIL import Image\n",
    "from matplotlib.colors import LogNorm\n",
    "\n",
    "# Separate images and labels\n",
    "dataset_images = test_dataset[\"image\"]\n",
    "dataset_labels = test_dataset[\"label\"]\n",
    "\n",
    "log_normalized_images = []\n",
    "\n",
    "for img in dataset_images:\n",
    "    img = np.array(img, dtype=np.float32)  \n",
    "\n",
    "\n",
    "    if len(img.shape) == 2:  \n",
    "        pass  \n",
    "    elif len(img.shape) == 3:  \n",
    "        img = np.mean(img, axis=-1) \n",
    "\n",
    "    img[img <= 0] = 1e-6  \n",
    "\n",
    "    # Apply log normalization\n",
    "    norm = LogNorm(vmin=np.min(img), vmax=np.max(img))\n",
    "    normalized_img = norm(img)  \n",
    "\n",
    "    # Scale values back to [0, 255] for visualization\n",
    "    normalized_img = (normalized_img - np.min(normalized_img)) / (np.max(normalized_img) - np.min(normalized_img)) * 255\n",
    "    normalized_img = np.clip(normalized_img, 0, 255).astype(np.uint8)\n",
    "\n",
    "    log_normalized_images.append(normalized_img)\n",
    "\n",
    "# Convert back to PIL images\n",
    "pil_images = [Image.fromarray(img) for img in log_normalized_images]\n",
    "\n",
    "# Display the first normalized image\n",
    "plt.imshow(pil_images[0], cmap=\"gray\")  \n",
    "plt.axis(\"off\") \n",
    "plt.show()\n"
   ]
  },
  {
   "cell_type": "code",
   "execution_count": 139,
   "metadata": {},
   "outputs": [
    {
     "data": {
      "text/plain": [
       "'\\n# Pulls 400 images, roughly 100 per each class\\ncutouts = get_cutouts(400)\\n\\n# Separate images and labels\\nimages = [item[0] for item in cutouts]\\nlabels = [item[1] for item in cutouts]\\n\\n# Normalizes images to ensure proper colouring and pixel magnitudes\\nlog_normalized_images = []\\nfor img in images:\\n    img = img.astype(np.float32) \\n    norm = LogNorm()\\n    normalized_img = norm(img) \\n    \\n    normalized_img = (normalized_img - normalized_img.min()) / (normalized_img.max() - normalized_img.min()) * 255\\n    normalized_img = np.clip(normalized_img, 0, 255).astype(np.uint8)\\n    log_normalized_images.append(normalized_img)\\n\\n# Stores images in PIL array to be passed through the processor.\\npil_images = [Image.fromarray(img) for img in log_normalized_images]\\nplt.imshow(pil_images[0], cmap=\\'Greys\\')\\nplt.axis(\"off\")\\nplt.show()\\n'"
      ]
     },
     "execution_count": 139,
     "metadata": {},
     "output_type": "execute_result"
    }
   ],
   "source": [
    "\"\"\"\n",
    "# Pulls 400 images, roughly 100 per each class\n",
    "cutouts = get_cutouts(400)\n",
    "\n",
    "# Separate images and labels\n",
    "images = [item[0] for item in cutouts]\n",
    "labels = [item[1] for item in cutouts]\n",
    "\n",
    "# Normalizes images to ensure proper colouring and pixel magnitudes\n",
    "log_normalized_images = []\n",
    "for img in images:\n",
    "    img = img.astype(np.float32) \n",
    "    norm = LogNorm()\n",
    "    normalized_img = norm(img) \n",
    "    \n",
    "    normalized_img = (normalized_img - normalized_img.min()) / (normalized_img.max() - normalized_img.min()) * 255\n",
    "    normalized_img = np.clip(normalized_img, 0, 255).astype(np.uint8)\n",
    "    log_normalized_images.append(normalized_img)\n",
    "\n",
    "# Stores images in PIL array to be passed through the processor.\n",
    "pil_images = [Image.fromarray(img) for img in log_normalized_images]\n",
    "plt.imshow(pil_images[0], cmap='Greys')\n",
    "plt.axis(\"off\")\n",
    "plt.show()\n",
    "\"\"\"\n"
   ]
  },
  {
   "cell_type": "code",
   "execution_count": 140,
   "metadata": {},
   "outputs": [],
   "source": [
    "# Sets computation device to whatever is available (likely CPU in this case)\n",
    "device = \"cuda\" if torch.cuda.is_available() else \\\n",
    "         (\"mps\" if torch.backends.mps.is_available() else \"cpu\")\n",
    "\n",
    "# Specifices version of CLIP to be used from huggingface \n",
    "model_id = \"openAI/clip-vit-base-patch32\"\n",
    "\n",
    "tokenizer = CLIPTokenizerFast.from_pretrained(model_id)\n",
    "model = CLIPModel.from_pretrained(\"fine_tuned_clip_model\").to(device)\n",
    "processor = CLIPProcessor.from_pretrained(\"fine_tuned_clip_model\")\n"
   ]
  },
  {
   "cell_type": "code",
   "execution_count": 141,
   "metadata": {},
   "outputs": [],
   "source": [
    "# Sets input prompt and tokenizes it using tokenizer\n",
    "\n",
    "prompt_one = \"globular cluster, central peak, symmetrical, slighlty more extended than point source\"\n",
    "prompt_two = \"open cluster, central peak, asymmetrical, elongated, slightly more extended relative to point source\"\n",
    "prompt_three = \"compact stellar association, asymmetric, multiple peaks\"\n",
    "prompt_four = \"not a star cluster or compact stellar association could be image artifacts, background galaxies, individual stars, or pairs of stars\"\n",
    "\n",
    "\"\"\"\n",
    "prompt_one = \"A bright star cluster with one peak and is symmetric\"\n",
    "prompt_two = \"A bright star cluster with one peak but is asymmetric or elongated\"\n",
    "prompt_three = \"A compact stellar association that is assymetric and has multiple peaks\"\n",
    "prompt_four = \"Types of image noise, such as background galaxies, stars, fluff, image diffraction and others\"\n",
    "\n",
    "\"\"\"\n",
    "\n",
    "inputs_one = tokenizer(prompt_one, return_tensors=\"pt\")\n",
    "inputs_two = tokenizer(prompt_two, return_tensors=\"pt\")\n",
    "inputs_three = tokenizer(prompt_three, return_tensors=\"pt\")\n",
    "inputs_four = tokenizer(prompt_four, return_tensors=\"pt\")"
   ]
  },
  {
   "cell_type": "code",
   "execution_count": 142,
   "metadata": {},
   "outputs": [],
   "source": [
    "# Embeds the prompt into a vector space in shape suitable for the model\n",
    "text_emb_one = model.get_text_features(**inputs_one)\n",
    "text_emb_two = model.get_text_features(**inputs_two)\n",
    "text_emb_three = model.get_text_features(**inputs_three)\n",
    "text_emb_four = model.get_text_features(**inputs_four)"
   ]
  },
  {
   "cell_type": "code",
   "execution_count": 143,
   "metadata": {},
   "outputs": [
    {
     "data": {
      "text/plain": [
       "'# Processor is used for image and text processing, however this instance is only for images and returns it as a tensor.\\nimage = processor(\\n    text=None,\\n    images=pil_images[0], #Custom cluster dataset\\n    # images=dataset[0][\\'image\\'], #Imagenette dataset \\n    return_tensors=\"pt\",\\n    do_rescale=False\\n)[\\'pixel_values\\'].to(device)\\nimage.shape'"
      ]
     },
     "execution_count": 143,
     "metadata": {},
     "output_type": "execute_result"
    }
   ],
   "source": [
    "\n",
    "\"\"\"# Processor is used for image and text processing, however this instance is only for images and returns it as a tensor.\n",
    "image = processor(\n",
    "    text=None,\n",
    "    images=pil_images[0], #Custom cluster dataset\n",
    "    # images=dataset[0]['image'], #Imagenette dataset \n",
    "    return_tensors=\"pt\",\n",
    "    do_rescale=False\n",
    ")['pixel_values'].to(device)\n",
    "image.shape\"\"\""
   ]
  },
  {
   "cell_type": "code",
   "execution_count": 144,
   "metadata": {},
   "outputs": [
    {
     "data": {
      "text/plain": [
       "'image.squeeze(0).T.shape'"
      ]
     },
     "execution_count": 144,
     "metadata": {},
     "output_type": "execute_result"
    }
   ],
   "source": [
    "\"\"\"image.squeeze(0).T.shape\"\"\"\n"
   ]
  },
  {
   "cell_type": "code",
   "execution_count": 145,
   "metadata": {},
   "outputs": [
    {
     "data": {
      "text/plain": [
       "'print(f\"Min: {image.min()}, Max: {image.max()}\")'"
      ]
     },
     "execution_count": 145,
     "metadata": {},
     "output_type": "execute_result"
    }
   ],
   "source": [
    "\"\"\"print(f\"Min: {image.min()}, Max: {image.max()}\")\"\"\""
   ]
  },
  {
   "cell_type": "code",
   "execution_count": 146,
   "metadata": {},
   "outputs": [
    {
     "data": {
      "text/plain": [
       "'def normalize_tensor(tensor):\\n    min_val = tensor.min()\\n    max_val = tensor.max()\\n    normalized_tensor = (tensor - min_val) / (max_val - min_val)\\n    return normalized_tensor\\n\\nnormalized_tensor = normalize_tensor(image.squeeze(0).T) #Normalize the tensor.\\nplt.imshow(normalized_tensor.cpu().numpy()) #Display the normalized tensor.\\nplt.axis(\"off\")\\nplt.show()\\nnormalized_tensor.shape'"
      ]
     },
     "execution_count": 146,
     "metadata": {},
     "output_type": "execute_result"
    }
   ],
   "source": [
    "\n",
    "\"\"\"def normalize_tensor(tensor):\n",
    "    min_val = tensor.min()\n",
    "    max_val = tensor.max()\n",
    "    normalized_tensor = (tensor - min_val) / (max_val - min_val)\n",
    "    return normalized_tensor\n",
    "\n",
    "normalized_tensor = normalize_tensor(image.squeeze(0).T) #Normalize the tensor.\n",
    "plt.imshow(normalized_tensor.cpu().numpy()) #Display the normalized tensor.\n",
    "plt.axis(\"off\")\n",
    "plt.show()\n",
    "normalized_tensor.shape\"\"\"\n"
   ]
  },
  {
   "cell_type": "code",
   "execution_count": 147,
   "metadata": {},
   "outputs": [
    {
     "data": {
      "text/plain": [
       "'# Embeds image into vector space, similar to text embedding \\nimage_emb = model.get_image_features(normalized_tensor.T.unsqueeze(0))\\nimage_emb.shape'"
      ]
     },
     "execution_count": 147,
     "metadata": {},
     "output_type": "execute_result"
    }
   ],
   "source": [
    "\"\"\"# Embeds image into vector space, similar to text embedding \n",
    "image_emb = model.get_image_features(normalized_tensor.T.unsqueeze(0))\n",
    "image_emb.shape\"\"\""
   ]
  },
  {
   "cell_type": "code",
   "execution_count": 148,
   "metadata": {},
   "outputs": [
    {
     "data": {
      "application/vnd.jupyter.widget-view+json": {
       "model_id": "5669c5bbe424422fba57f4b225e434c2",
       "version_major": 2,
       "version_minor": 0
      },
      "text/plain": [
       "  0%|          | 0/24 [00:00<?, ?it/s]"
      ]
     },
     "metadata": {},
     "output_type": "display_data"
    },
    {
     "data": {
      "text/plain": [
       "(237, 512)"
      ]
     },
     "execution_count": 148,
     "metadata": {},
     "output_type": "execute_result"
    }
   ],
   "source": [
    "batch_size = 10 # change depending on size of test set\n",
    "image_arr = None\n",
    "\n",
    "for i in tqdm(range(0, len(pil_images), batch_size)):\n",
    "    # select batch of images\n",
    "    batch = pil_images[i:i+batch_size]\n",
    "    # process and resize\n",
    "    batch = processor(\n",
    "        text=None,\n",
    "        images=batch,\n",
    "        return_tensors='pt',\n",
    "        padding=True\n",
    "    )['pixel_values'].to(device)\n",
    "    \n",
    "    # get image embeddings\n",
    "    batch_emb = model.get_image_features(pixel_values=batch)\n",
    "    #conver to numpy array\n",
    "    batch_emb = batch_emb.squeeze(0)\n",
    "    batch_emb = batch_emb.cpu().detach().numpy()\n",
    "    #add to larger array of all image embeddings\n",
    "    if image_arr is None:\n",
    "        image_arr = batch_emb\n",
    "    else:\n",
    "        image_arr = np.concatenate((image_arr, batch_emb), axis=0)\n",
    "image_arr.shape\n",
    "\n"
   ]
  },
  {
   "cell_type": "code",
   "execution_count": 149,
   "metadata": {},
   "outputs": [
    {
     "data": {
      "text/plain": [
       "(np.float32(-12.326763), np.float32(3.0453334))"
      ]
     },
     "execution_count": 149,
     "metadata": {},
     "output_type": "execute_result"
    }
   ],
   "source": [
    "image_arr.min(), image_arr.max() "
   ]
  },
  {
   "cell_type": "code",
   "execution_count": 150,
   "metadata": {},
   "outputs": [],
   "source": [
    "# Normalizes the image embeddings\n",
    "image_arr = image_arr.T / np.linalg.norm(image_arr, axis=1)"
   ]
  },
  {
   "cell_type": "code",
   "execution_count": 151,
   "metadata": {},
   "outputs": [
    {
     "data": {
      "text/plain": [
       "(np.float32(-0.8922772), np.float32(0.2291926))"
      ]
     },
     "execution_count": 151,
     "metadata": {},
     "output_type": "execute_result"
    }
   ],
   "source": [
    "image_arr = image_arr.T\n",
    "image_arr.shape\n",
    "image_arr.min(), image_arr.max()"
   ]
  },
  {
   "cell_type": "code",
   "execution_count": 152,
   "metadata": {},
   "outputs": [],
   "source": [
    "text_emb_one = text_emb_one.cpu().detach().numpy()\n",
    "text_emb_two = text_emb_two.cpu().detach().numpy()\n",
    "text_emb_three = text_emb_three.cpu().detach().numpy()\n",
    "text_emb_four = text_emb_four.cpu().detach().numpy()"
   ]
  },
  {
   "cell_type": "code",
   "execution_count": 153,
   "metadata": {},
   "outputs": [],
   "source": [
    "# Takes the dot product of each image and the prompt to determine similarities scores\n",
    "scores_one = np.dot(text_emb_one, image_arr.T)\n",
    "scores_two = np.dot(text_emb_two, image_arr.T)\n",
    "scores_three = np.dot(text_emb_three, image_arr.T)\n",
    "scores_four = np.dot(text_emb_four, image_arr.T)\n"
   ]
  },
  {
   "cell_type": "code",
   "execution_count": 154,
   "metadata": {},
   "outputs": [
    {
     "data": {
      "text/plain": [
       "(1, 237)"
      ]
     },
     "execution_count": 154,
     "metadata": {},
     "output_type": "execute_result"
    }
   ],
   "source": [
    "scores_one.shape"
   ]
  },
  {
   "cell_type": "code",
   "execution_count": 155,
   "metadata": {},
   "outputs": [],
   "source": [
    "# Takes the top 5 image scores for prompt 1 and stores them in an index array\n",
    "top_k = 400\n",
    "idx_one = np.argsort(-scores_one[0])[:top_k]"
   ]
  },
  {
   "cell_type": "code",
   "execution_count": 156,
   "metadata": {},
   "outputs": [
    {
     "name": "stdout",
     "output_type": "stream",
     "text": [
      "3.732113\n"
     ]
    },
    {
     "data": {
      "image/png": "[encoded data removed]",
      "text/plain": [
       "<Figure size 640x480 with 1 Axes>"
      ]
     },
     "metadata": {},
     "output_type": "display_data"
    },
    {
     "name": "stdout",
     "output_type": "stream",
     "text": [
      "1\n"
     ]
    }
   ],
   "source": [
    "# Prints the 5 images with the highest scores\n",
    "\n",
    "for i in range(1):\n",
    "    print(scores_one[0][idx_one[i]])\n",
    "    plt.imshow(pil_images[idx_one[i]], cmap='Greys')\n",
    "    plt.axis(\"off\")\n",
    "    plt.show()\n",
    "    print(dataset_labels[idx_one[i]])"
   ]
  },
  {
   "cell_type": "code",
   "execution_count": 157,
   "metadata": {},
   "outputs": [],
   "source": [
    "# Takes the top 5 image scores for prompt 2 and stores them in an index array\n",
    "idx_two = np.argsort(-scores_two[0])[:top_k]"
   ]
  },
  {
   "cell_type": "code",
   "execution_count": 158,
   "metadata": {},
   "outputs": [
    {
     "name": "stdout",
     "output_type": "stream",
     "text": [
      "3.932757\n"
     ]
    },
    {
     "data": {
      "image/png": "[encoded data removed]",
      "text/plain": [
       "<Figure size 640x480 with 1 Axes>"
      ]
     },
     "metadata": {},
     "output_type": "display_data"
    },
    {
     "name": "stdout",
     "output_type": "stream",
     "text": [
      "2\n"
     ]
    }
   ],
   "source": [
    "# Prints the 5 images with the highest scores\n",
    "for i in range(1):\n",
    "    print(scores_two[0][idx_two[i]])\n",
    "    plt.imshow(pil_images[idx_two[i]], cmap='Greys')\n",
    "    plt.axis(\"off\")\n",
    "    plt.show()\n",
    "    print(dataset_labels[idx_two[i]])"
   ]
  },
  {
   "cell_type": "code",
   "execution_count": 159,
   "metadata": {},
   "outputs": [],
   "source": [
    "# Takes the top 5 image scores for prompt 3 and stores them in an index array\n",
    "idx_three = np.argsort(-scores_three[0])[:top_k]"
   ]
  },
  {
   "cell_type": "code",
   "execution_count": 160,
   "metadata": {},
   "outputs": [
    {
     "name": "stdout",
     "output_type": "stream",
     "text": [
      "3.9251912\n"
     ]
    },
    {
     "data": {
      "image/png": "[encoded data removed]",
      "text/plain": [
       "<Figure size 640x480 with 1 Axes>"
      ]
     },
     "metadata": {},
     "output_type": "display_data"
    },
    {
     "name": "stdout",
     "output_type": "stream",
     "text": [
      "3\n"
     ]
    }
   ],
   "source": [
    "# Prints the 5 images with the highest scores\n",
    "\n",
    "for i in range(1):\n",
    "    print(scores_three[0][idx_three[i]])\n",
    "    plt.imshow(pil_images[idx_three[i]], cmap='Greys')\n",
    "    plt.axis(\"off\")\n",
    "    plt.show()\n",
    "    print(dataset_labels[idx_three[i]])\n"
   ]
  },
  {
   "cell_type": "code",
   "execution_count": 161,
   "metadata": {},
   "outputs": [],
   "source": [
    "# Takes the top 5 image scores for prompt 3 and stores them in an index array\n",
    "idx_four = np.argsort(-scores_four[0])[:top_k]"
   ]
  },
  {
   "cell_type": "code",
   "execution_count": 162,
   "metadata": {},
   "outputs": [
    {
     "name": "stdout",
     "output_type": "stream",
     "text": [
      "3.962522\n"
     ]
    },
    {
     "data": {
      "image/png": "[encoded data removed]",
      "text/plain": [
       "<Figure size 640x480 with 1 Axes>"
      ]
     },
     "metadata": {},
     "output_type": "display_data"
    },
    {
     "name": "stdout",
     "output_type": "stream",
     "text": [
      "4\n"
     ]
    }
   ],
   "source": [
    "# Prints the 5 images with the highest scores\n",
    "\n",
    "for i in range(1):\n",
    "    print(scores_four[0][idx_four[i]])\n",
    "    plt.imshow(pil_images[idx_four[i]], cmap='Greys')\n",
    "    plt.axis(\"off\")\n",
    "    plt.show()\n",
    "    print(dataset_labels[idx_four[i]])\n"
   ]
  },
  {
   "cell_type": "code",
   "execution_count": 163,
   "metadata": {},
   "outputs": [],
   "source": [
    "scores_one = scores_one.flatten()\n",
    "scores_two = scores_two.flatten()\n",
    "scores_three = scores_three.flatten()\n",
    "scores_four = scores_four.flatten()\n",
    "\n",
    "# Initialize classification lists for each text prompt\n",
    "cat_one = []\n",
    "cat_two = []\n",
    "cat_three = []\n",
    "cat_four = []\n",
    "\n",
    "# Loop through each index and compare the scores\n",
    "for i in range(len(scores_one)):  # Use len(scores_one) to ensure the right range\n",
    "    # Get the scores for the current index\n",
    "    scores = [scores_one[i], scores_two[i], scores_three[i], scores_four[i]]\n",
    "    \n",
    "    # Find the index of the highest score (classification)\n",
    "    max_score_index = np.argmax(scores)\n",
    "\n",
    "    if max_score_index == 0:\n",
    "        cat_one.append(i)\n",
    "    elif max_score_index == 1:\n",
    "        cat_two.append(i)  \n",
    "    elif max_score_index == 2:\n",
    "        cat_three.append(i)      \n",
    "    elif max_score_index == 3:\n",
    "        cat_four.append(i) "
   ]
  },
  {
   "cell_type": "code",
   "execution_count": 164,
   "metadata": {},
   "outputs": [
    {
     "data": {
      "text/plain": [
       "\"\\n# Convert lists to dictionaries for O(1) lookups\\npos_one = {img: i for i, img in enumerate(idx_one)}\\npos_two = {img: i for i, img in enumerate(idx_two)}\\npos_three = {img: i for i, img in enumerate(idx_three)}\\npos_four = {img: i for i, img in enumerate(idx_four)}\\n\\ncat_one = []\\ncat_two = []\\ncat_three = []\\ncat_four = []\\n\\n# Get unique images from all three lists\\nall_images = set(idx_one) | set(idx_two) | set(idx_three) | set(idx_four)\\n\\nfor img in all_images:\\n    # Get positions, using a large default if missing\\n    pos1 = pos_one.get(img, float('inf'))\\n    pos2 = pos_two.get(img, float('inf'))\\n    pos3 = pos_three.get(img, float('inf'))\\n    pos4 = pos_four.get(img, float('inf'))\\n\\n    # Determine which list contains the earliest occurrence\\n    min_pos = min(pos1, pos2, pos3, pos4)\\n\\n    if min_pos == pos1:\\n        cat_one.append(img)\\n    elif min_pos == pos2:\\n        cat_two.append(img)\\n    elif min_pos == pos3:\\n        cat_three.append(img)\\n    elif min_pos == pos4:\\n        cat_four.append(img)\\n\""
      ]
     },
     "execution_count": 164,
     "metadata": {},
     "output_type": "execute_result"
    }
   ],
   "source": [
    "# Finds earliest occurence of each image in score indexes and assigns them to respective category\n",
    "\"\"\"\n",
    "# Convert lists to dictionaries for O(1) lookups\n",
    "pos_one = {img: i for i, img in enumerate(idx_one)}\n",
    "pos_two = {img: i for i, img in enumerate(idx_two)}\n",
    "pos_three = {img: i for i, img in enumerate(idx_three)}\n",
    "pos_four = {img: i for i, img in enumerate(idx_four)}\n",
    "\n",
    "cat_one = []\n",
    "cat_two = []\n",
    "cat_three = []\n",
    "cat_four = []\n",
    "\n",
    "# Get unique images from all three lists\n",
    "all_images = set(idx_one) | set(idx_two) | set(idx_three) | set(idx_four)\n",
    "\n",
    "for img in all_images:\n",
    "    # Get positions, using a large default if missing\n",
    "    pos1 = pos_one.get(img, float('inf'))\n",
    "    pos2 = pos_two.get(img, float('inf'))\n",
    "    pos3 = pos_three.get(img, float('inf'))\n",
    "    pos4 = pos_four.get(img, float('inf'))\n",
    "\n",
    "    # Determine which list contains the earliest occurrence\n",
    "    min_pos = min(pos1, pos2, pos3, pos4)\n",
    "\n",
    "    if min_pos == pos1:\n",
    "        cat_one.append(img)\n",
    "    elif min_pos == pos2:\n",
    "        cat_two.append(img)\n",
    "    elif min_pos == pos3:\n",
    "        cat_three.append(img)\n",
    "    elif min_pos == pos4:\n",
    "        cat_four.append(img)\n",
    "\"\"\""
   ]
  },
  {
   "cell_type": "code",
   "execution_count": null,
   "metadata": {},
   "outputs": [
    {
     "data": {
      "image/png": "[encoded data removed]",
      "text/plain": [
       "<Figure size 800x800 with 2 Axes>"
      ]
     },
     "metadata": {},
     "output_type": "display_data"
    }
   ],
   "source": [
    "actual = []\n",
    "predicted = []\n",
    "\n",
    "for i in cat_one:\n",
    "    actual.append(dataset_labels[i])  \n",
    "    predicted.append(1)  \n",
    "\n",
    "for i in cat_two:\n",
    "    actual.append(dataset_labels[i])\n",
    "    predicted.append(2)  \n",
    "\n",
    "for i in cat_three:\n",
    "    actual.append(dataset_labels[i])\n",
    "    predicted.append(3)  \n",
    "\n",
    "for i in cat_four:\n",
    "\n",
    "    actual.append(dataset_labels[i])\n",
    "    predicted.append(4)  \n",
    "\n",
    "actual = np.array(actual)\n",
    "predicted = np.array(predicted)\n",
    "\n",
    "confusion_matrix = metrics.confusion_matrix(actual, predicted, labels=[1, 2, 3, 4])\n",
    "\n",
    "category_labels = [\"Globular Clusters\", \"Open Clusters\", \"Stellar Associations\", \"Noise\"]\n",
    "\n",
    "cm_display = metrics.ConfusionMatrixDisplay(confusion_matrix=confusion_matrix, display_labels=category_labels)\n",
    "fig, ax = plt.subplots(figsize=(8, 8))\n",
    "cm_display.plot(cmap=\"coolwarm\", ax=ax, values_format=\"d\")\n",
    "\n",
    "for text in ax.texts:\n",
    "    text.set_color(\"black\")\n",
    "\n",
    "plt.title(\"Stur Cluster Identification Confusion Matrix\", fontsize=14)\n",
    "plt.show()"
   ]
  },
  {
   "cell_type": "code",
   "execution_count": 166,
   "metadata": {},
   "outputs": [],
   "source": [
    "def precision(class_type, id):\n",
    "    \n",
    "    true_positive = 0\n",
    "    false_positive = 0\n",
    "\n",
    "    for i in class_type:\n",
    "        if dataset_labels[i] == id:\n",
    "            true_positive += 1\n",
    "        else:\n",
    "            false_positive += 1\n",
    "    \n",
    "    if (true_positive+false_positive) == 0:\n",
    "        return 0\n",
    "        \n",
    "    prec_val = (true_positive / (true_positive+false_positive)) * 100\n",
    "\n",
    "    return prec_val"
   ]
  },
  {
   "cell_type": "code",
   "execution_count": 167,
   "metadata": {},
   "outputs": [],
   "source": [
    "def recall(class_type, id):\n",
    "    \n",
    "    count = 0\n",
    "    true_positive = 0\n",
    "    false_negative = 0\n",
    "\n",
    "    for i in dataset_labels:\n",
    "        if i == id:\n",
    "            count += 1\n",
    "\n",
    "    for i in class_type:\n",
    "        if dataset_labels[i] == id:\n",
    "            true_positive += 1\n",
    "\n",
    "    false_negative = count - true_positive\n",
    "\n",
    "    if (true_positive+false_negative) == 0:\n",
    "        return 0\n",
    "\n",
    "    recall_val = (true_positive / (true_positive+false_negative)) * 100\n",
    "\n",
    "    return recall_val"
   ]
  },
  {
   "cell_type": "code",
   "execution_count": 168,
   "metadata": {},
   "outputs": [],
   "source": [
    "def f_one_score(precision_val, recall_val):\n",
    "\n",
    "    if (precision_val+recall_val) == 0:\n",
    "        return 0\n",
    "    \n",
    "    f_one = (2*precision_val*recall_val)/(precision_val+recall_val)\n",
    "    return f_one"
   ]
  },
  {
   "cell_type": "code",
   "execution_count": 169,
   "metadata": {},
   "outputs": [],
   "source": [
    "def accuracy():\n",
    "\n",
    "    correct = 0\n",
    "    total = 0\n",
    "\n",
    "    for i in dataset_labels:\n",
    "        total += 1\n",
    "\n",
    "    for i in cat_one:\n",
    "        if dataset_labels[i] == 1:\n",
    "            correct += 1\n",
    "    \n",
    "    for i in cat_two:\n",
    "        if dataset_labels[i] == 2:\n",
    "            correct += 1\n",
    "    \n",
    "    for i in cat_three:\n",
    "        if dataset_labels[i] == 3:\n",
    "            correct += 1\n",
    "    \n",
    "    for i in cat_four:\n",
    "        if dataset_labels[i] == 4:\n",
    "            correct += 1\n",
    "    \n",
    "    acc = (correct / total) * 100\n",
    "    return acc\n"
   ]
  },
  {
   "cell_type": "code",
   "execution_count": 170,
   "metadata": {},
   "outputs": [],
   "source": [
    "def calculate_and_store_metrics():\n",
    "    results = {\n",
    "        \"Class 1\": {\n",
    "            \"Precision\": round(precision(cat_one, 1), 2),\n",
    "            \"Recall\": round(recall(cat_one, 1), 2),\n",
    "            \"F1 Score\": round(f_one_score(precision(cat_one, 1), recall(cat_one, 1)), 2),\n",
    "        },\n",
    "        \"Class 2\": {\n",
    "            \"Precision\": round(precision(cat_two, 2), 2),\n",
    "            \"Recall\": round(recall(cat_two, 2), 2),\n",
    "            \"F1 Score\": round(f_one_score(precision(cat_two, 2), recall(cat_two, 2)), 2),\n",
    "        },\n",
    "        \"Class 3\": {\n",
    "            \"Precision\": round(precision(cat_three, 3), 2),\n",
    "            \"Recall\": round(recall(cat_three, 3), 2),\n",
    "            \"F1 Score\": round(f_one_score(precision(cat_three, 3), recall(cat_three, 3)), 2),\n",
    "        },\n",
    "        \"Class 4\": {\n",
    "            \"Precision\": round(precision(cat_four, 4), 2),\n",
    "            \"Recall\": round(recall(cat_four, 4), 2),\n",
    "            \"F1 Score\": round(f_one_score(precision(cat_four, 4), recall(cat_four, 4)), 2),\n",
    "        },\n",
    "        \"Overall Accuracy\": round(accuracy(), 2),\n",
    "    }\n",
    "\n",
    "    filepath = \"../data/fine_tuned_metrics.json\"\n",
    "    if os.path.exists(filepath):\n",
    "        with open(filepath, \"r\") as f:\n",
    "            try:\n",
    "                all_results = json.load(f)\n",
    "                if not isinstance(all_results, list) or not all_results:\n",
    "                    all_results = [{}]\n",
    "            except json.JSONDecodeError:\n",
    "                all_results = [{}]\n",
    "    else:\n",
    "        all_results = [{}]\n",
    "\n",
    "    existing_metrics = all_results[0]\n",
    "\n",
    "    for class_name, metrics in results.items():\n",
    "        if class_name == \"Overall Accuracy\":\n",
    "            if class_name in existing_metrics:\n",
    "                existing_metrics[class_name] = str(existing_metrics[class_name]) + \", \" + str(metrics)\n",
    "            else:\n",
    "                existing_metrics[class_name] = metrics\n",
    "        elif class_name in existing_metrics:\n",
    "            for metric_name, metric_value in metrics.items():\n",
    "                existing_metrics[class_name][metric_name] = str(existing_metrics[class_name][metric_name]) + \", \" + str(metric_value)\n",
    "        else:\n",
    "            existing_metrics[class_name] = metrics\n",
    "\n",
    "    with open(filepath, \"w\") as f:\n",
    "        json.dump(all_results, f, indent=4)\n",
    "\n",
    "calculate_and_store_metrics()"
   ]
  }
 ],
 "metadata": {
  "kernelspec": {
   "display_name": "Python 3",
   "language": "python",
   "name": "python3"
  },
  "language_info": {
   "codemirror_mode": {
    "name": "ipython",
    "version": 3
   },
   "file_extension": ".py",
   "mimetype": "text/x-python",
   "name": "python",
   "nbconvert_exporter": "python",
   "pygments_lexer": "ipython3",
   "version": "3.12.2"
  }
 },
 "nbformat": 4,
 "nbformat_minor": 2
}
