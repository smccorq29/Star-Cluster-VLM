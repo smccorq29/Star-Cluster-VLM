{
  "cells": [
    {
      "cell_type": "markdown",
      "metadata": {
        "id": "qHJwsTjOVisB"
      },
      "source": [
        "Jupyter notebook to access star clusters, compact associations and other noise in nearby galaxies. This notebook only downloads necessary files locally. Images are accessed in access_images.ipynb to cut down on execution time. \n",
        "\n",
        "The data release is presented here:\n",
        "https://archive.stsci.edu/hlsp/phangs/phangs-cat\n",
        "and the accompanying paper is [Maschmann et al. (2024)](https://ui.adsabs.harvard.edu/abs/2024arXiv240304901M/abstract).\n",
        "\n",
        "This notebook was adapted from [Maschmann et al. (2024)]https://github.com/DanielMaschmann/PHANGS_HST_star_cluster/ \n"
      ]
    },
    {
      "cell_type": "code",
      "execution_count": 3,
      "metadata": {
        "colab": {
          "base_uri": "https://localhost:8080/"
        },
        "id": "616dI2-2DcDw",
        "outputId": "4e0e5eef-e281-45b1-943c-c4bc3032a48b"
      },
      "outputs": [
        {
          "name": "stderr",
          "output_type": "stream",
          "text": [
            "WARNING: Ignoring invalid distribution ~ (C:\\Python312\\Lib\\site-packages)\n",
            "WARNING: Ignoring invalid distribution ~ip (C:\\Python312\\Lib\\site-packages)\n",
            "WARNING: Ignoring invalid distribution ~~p (C:\\Python312\\Lib\\site-packages)\n",
            "WARNING: Ignoring invalid distribution ~ (C:\\Python312\\Lib\\site-packages)\n",
            "WARNING: Ignoring invalid distribution ~ip (C:\\Python312\\Lib\\site-packages)\n",
            "WARNING: Ignoring invalid distribution ~~p (C:\\Python312\\Lib\\site-packages)\n",
            "WARNING: Ignoring invalid distribution ~ (C:\\Python312\\Lib\\site-packages)\n",
            "WARNING: Ignoring invalid distribution ~ip (C:\\Python312\\Lib\\site-packages)\n",
            "WARNING: Ignoring invalid distribution ~~p (C:\\Python312\\Lib\\site-packages)\n"
          ]
        },
        {
          "name": "stdout",
          "output_type": "stream",
          "text": [
            "Requirement already satisfied: dust_extinction in c:\\python312\\lib\\site-packages (1.5)\n",
            "Requirement already satisfied: astropy in c:\\python312\\lib\\site-packages (from dust_extinction) (6.1.4)\n",
            "Requirement already satisfied: scipy in c:\\python312\\lib\\site-packages (from dust_extinction) (1.14.1)\n",
            "Requirement already satisfied: numpy>=1.23 in c:\\users\\seanm\\appdata\\roaming\\python\\python312\\site-packages (from astropy->dust_extinction) (2.0.2)\n",
            "Requirement already satisfied: pyerfa>=2.0.1.1 in c:\\python312\\lib\\site-packages (from astropy->dust_extinction) (2.0.1.4)\n",
            "Requirement already satisfied: astropy-iers-data>=0.2024.8.27.10.28.29 in c:\\python312\\lib\\site-packages (from astropy->dust_extinction) (0.2024.10.21.0.33.21)\n",
            "Requirement already satisfied: PyYAML>=3.13 in c:\\users\\seanm\\appdata\\roaming\\python\\python312\\site-packages (from astropy->dust_extinction) (6.0.2)\n",
            "Requirement already satisfied: packaging>=19.0 in c:\\users\\seanm\\appdata\\roaming\\python\\python312\\site-packages (from astropy->dust_extinction) (24.1)\n"
          ]
        }
      ],
      "source": [
        "# packages needed to for file management,\n",
        "# downloading and unpacking compressed catalogs.\n",
        "import os\n",
        "from urllib3 import PoolManager\n",
        "import tarfile\n",
        "\n",
        "# basic packages for data handling and plotting\n",
        "import numpy as np\n",
        "\n",
        "import matplotlib.pyplot as plt\n",
        "from matplotlib.colors import LogNorm\n",
        "import random\n",
        "\n",
        "from astropy.io import fits\n",
        "from astropy.table import Table\n",
        "import astropy.units as u\n",
        "from astropy.coordinates import SkyCoord\n",
        "from astropy.wcs import WCS\n",
        "from astropy.stats import sigma_clipped_stats\n",
        "\n",
        "from scipy.constants import c as speed_of_light\n",
        "\n",
        "# we download a file with multiple helpfull methods from the same git repository.\n",
        "# These functions are well documented to facilitate further reading.\n",
        "helper_func_url = 'https://raw.githubusercontent.com/DanielMaschmann/PHANGS_HST_star_cluster/main/helper_func.py'\n",
        "# Download file. This will save them in the working directory.\n",
        "http = PoolManager()\n",
        "http_request_object = http.request('GET', helper_func_url, preload_content=False)\n",
        "with open('helper_func.py', 'wb') as out:\n",
        "    while True:\n",
        "        data = http_request_object.read()\n",
        "        if not data:\n",
        "            break\n",
        "        out.write(data)\n",
        "\n",
        "!pip install dust_extinction\n",
        "\n",
        "# in case of updates\n",
        "%load_ext autoreload\n",
        "%autoreload 2\n",
        "import importlib\n",
        "import helper_func as helper_func\n",
        "mylibrary = importlib.reload(helper_func)"
      ]
    },
    {
      "cell_type": "markdown",
      "metadata": {
        "id": "iQSM7erdkJR0"
      },
      "source": [
        "In this Jupyter Notebook we will demonstrate to access and handle the cluster catalog for the Galaxy NGC 1566"
      ]
    },
    {
      "cell_type": "code",
      "execution_count": 4,
      "metadata": {
        "id": "0YJlud9lhFrr"
      },
      "outputs": [],
      "source": [
        "# we use NGC ngc1097 as an example\n",
        "galaxy_name = 'ngc1097'\n"
      ]
    },
    {
      "cell_type": "markdown",
      "metadata": {
        "id": "YBtqY7nAjwtV"
      },
      "source": [
        "Download the cluster and compact associataion catalogs and extract them.\n",
        "The catalog data release is described here https://archive.stsci.edu/hlsp/phangs/phangs-cat and the list of the data products can be found here: https://archive.stsci.edu/hlsp/phangs.html#hst_image_products_table \\"
      ]
    },
    {
      "cell_type": "code",
      "execution_count": 5,
      "metadata": {
        "id": "nkXeITvwgTEd"
      },
      "outputs": [],
      "source": [
        "# get the file name and the URL for the catalogs\n",
        "url_path_structure = 'https://archive.stsci.edu/hlsps/phangs-cat/dr4/bundles/'\n",
        "catalog_file_name_compressed = ('hlsp_phangs-cat_hst_acs-uvis_%s_multi_v1_cats.tar.gz' %\n",
        "                    galaxy_name)\n",
        "url = url_path_structure + catalog_file_name_compressed\n",
        "# Download compressed catalogs. This will save them in the working directory.\n",
        "http = PoolManager()\n",
        "http_request_object = http.request('GET', url, preload_content=False)\n",
        "with open(catalog_file_name_compressed, 'wb') as out:\n",
        "    while True:\n",
        "        data = http_request_object.read()\n",
        "        if not data:\n",
        "            break\n",
        "        out.write(data)\n",
        "# get the present work directory (pwd) where we will extract the file\n",
        "pwd = os.getcwd()\n",
        "src_path = pwd + '/' + catalog_file_name_compressed\n",
        "# extract the compressed files locally\n",
        "tar = tarfile.open(src_path, 'r:gz')\n",
        "tar.extractall(pwd)\n",
        "tar.close()"
      ]
    },
    {
      "cell_type": "code",
      "execution_count": 6,
      "metadata": {
        "id": "0lG4k6XpkrGX"
      },
      "outputs": [],
      "source": [
        "# some galaxies have HST image mosaics. Therefore the file names can change!\n",
        "mosaic_flag = True\n",
        "if mosaic_flag:\n",
        "  bundle_file_name = galaxy_name + 'mosaic'\n",
        "else:\n",
        "  bundle_file_name = galaxy_name"
      ]
    },
    {
      "cell_type": "code",
      "execution_count": 7,
      "metadata": {
        "id": "KDha8walDLof"
      },
      "outputs": [],
      "source": [
        "img_file_name_compressed = 'hlsp_phangs-hst_hst_wfc3-uvis_%s_multi_v1_drc-bundle.tar.gz' % bundle_file_name\n",
        "url = 'https://archive.stsci.edu/hlsps/phangs-hst/' + bundle_file_name + '/' + img_file_name_compressed\n",
        "# Download compressed image bundle. This will save them in the working directory.\n",
        "http = PoolManager()\n",
        "http_request_object = http.request('GET', url, preload_content=False)\n",
        "with open(img_file_name_compressed, 'wb') as out:\n",
        "    while True:\n",
        "        data = http_request_object.read()\n",
        "        if not data:\n",
        "            break\n",
        "        out.write(data)\n",
        "# get the present work directory (pwd) where we will extract the file\n",
        "pwd = os.getcwd()\n",
        "src_path = pwd + '/' + img_file_name_compressed\n",
        "# extract the compressed files locally\n",
        "tar = tarfile.open(src_path, 'r:gz')\n",
        "tar.extractall(pwd)\n",
        "tar.close()"
      ]
    }
  ],
  "metadata": {
    "colab": {
      "authorship_tag": "ABX9TyM83C/goEeSEYDRdQQsTrHu",
      "include_colab_link": true,
      "provenance": []
    },
    "kernelspec": {
      "display_name": "Python 3",
      "name": "python3"
    },
    "language_info": {
      "codemirror_mode": {
        "name": "ipython",
        "version": 3
      },
      "file_extension": ".py",
      "mimetype": "text/x-python",
      "name": "python",
      "nbconvert_exporter": "python",
      "pygments_lexer": "ipython3",
      "version": "3.12.2"
    }
  },
  "nbformat": 4,
  "nbformat_minor": 0
}
