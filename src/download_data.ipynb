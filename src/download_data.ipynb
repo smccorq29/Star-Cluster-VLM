{
  "cells": [
    {
      "cell_type": "markdown",
      "metadata": {
        "id": "qHJwsTjOVisB"
      },
      "source": [
        "Jupyter notebook to access star clusters, compact associations and other noise in nearby galaxies. This notebook only downloads necessary files locally. Images are accessed in access_images.ipynb to cut down on execution time. \n",
        "\n",
        "The data release is presented here:\n",
        "https://archive.stsci.edu/hlsp/phangs/phangs-cat\n",
        "and the accompanying paper is [Maschmann et al. (2024)](https://ui.adsabs.harvard.edu/abs/2024arXiv240304901M/abstract).\n",
        "\n",
        "This notebook was adapted from [Maschmann et al. (2024)]https://github.com/DanielMaschmann/PHANGS_HST_star_cluster/ \n"
      ]
    },
    {
      "cell_type": "code",
      "execution_count": 1,
      "metadata": {
        "colab": {
          "base_uri": "https://localhost:8080/"
        },
        "id": "616dI2-2DcDw",
        "outputId": "4e0e5eef-e281-45b1-943c-c4bc3032a48b"
      },
      "outputs": [
        {
          "name": "stderr",
          "output_type": "stream",
          "text": [
            "WARNING: Ignoring invalid distribution ~ (C:\\Python312\\Lib\\site-packages)\n",
            "WARNING: Ignoring invalid distribution ~ip (C:\\Python312\\Lib\\site-packages)\n",
            "WARNING: Ignoring invalid distribution ~~p (C:\\Python312\\Lib\\site-packages)\n",
            "WARNING: Ignoring invalid distribution ~ (C:\\Python312\\Lib\\site-packages)\n",
            "WARNING: Ignoring invalid distribution ~ip (C:\\Python312\\Lib\\site-packages)\n",
            "WARNING: Ignoring invalid distribution ~~p (C:\\Python312\\Lib\\site-packages)\n",
            "WARNING: Ignoring invalid distribution ~ (C:\\Python312\\Lib\\site-packages)\n",
            "WARNING: Ignoring invalid distribution ~ip (C:\\Python312\\Lib\\site-packages)\n",
            "WARNING: Ignoring invalid distribution ~~p (C:\\Python312\\Lib\\site-packages)\n"
          ]
        },
        {
          "name": "stdout",
          "output_type": "stream",
          "text": [
            "Requirement already satisfied: dust_extinction in c:\\python312\\lib\\site-packages (1.5)\n",
            "Requirement already satisfied: astropy in c:\\python312\\lib\\site-packages (from dust_extinction) (6.1.4)\n",
            "Requirement already satisfied: scipy in c:\\python312\\lib\\site-packages (from dust_extinction) (1.14.1)\n",
            "Requirement already satisfied: numpy>=1.23 in c:\\users\\seanm\\appdata\\roaming\\python\\python312\\site-packages (from astropy->dust_extinction) (2.0.2)\n",
            "Requirement already satisfied: pyerfa>=2.0.1.1 in c:\\python312\\lib\\site-packages (from astropy->dust_extinction) (2.0.1.4)\n",
            "Requirement already satisfied: astropy-iers-data>=0.2024.8.27.10.28.29 in c:\\python312\\lib\\site-packages (from astropy->dust_extinction) (0.2024.10.21.0.33.21)\n",
            "Requirement already satisfied: PyYAML>=3.13 in c:\\users\\seanm\\appdata\\roaming\\python\\python312\\site-packages (from astropy->dust_extinction) (6.0.2)\n",
            "Requirement already satisfied: packaging>=19.0 in c:\\users\\seanm\\appdata\\roaming\\python\\python312\\site-packages (from astropy->dust_extinction) (24.1)\n"
          ]
        }
      ],
      "source": [
        "# packages needed to for file management,\n",
        "# downloading and unpacking compressed catalogs.\n",
        "import os\n",
        "from urllib3 import PoolManager\n",
        "import tarfile\n",
        "\n",
        "# we download a file with multiple helpfull methods from the same git repository.\n",
        "# These functions are well documented to facilitate further reading.\n",
        "helper_func_url = 'https://raw.githubusercontent.com/DanielMaschmann/PHANGS_HST_star_cluster/main/helper_func.py'\n",
        "# Download file. This will save them in the working directory.\n",
        "http = PoolManager()\n",
        "http_request_object = http.request('GET', helper_func_url, preload_content=False)\n",
        "with open('helper_func.py', 'wb') as out:\n",
        "    while True:\n",
        "        data = http_request_object.read()\n",
        "        if not data:\n",
        "            break\n",
        "        out.write(data)\n",
        "\n",
        "!pip install dust_extinction\n",
        "\n",
        "# in case of updates\n",
        "%load_ext autoreload\n",
        "%autoreload 2\n",
        "import importlib\n",
        "import helper_func as helper_func\n",
        "mylibrary = importlib.reload(helper_func)"
      ]
    },
    {
      "cell_type": "markdown",
      "metadata": {
        "id": "iQSM7erdkJR0"
      },
      "source": [
        "In this Jupyter Notebook we will demonstrate to access and handle the cluster catalog for the Galaxy NGC 1566"
      ]
    },
    {
      "cell_type": "code",
      "execution_count": 2,
      "metadata": {
        "id": "0YJlud9lhFrr"
      },
      "outputs": [],
      "source": [
        "# we use NGC ngc1097 as an example\n",
        "galaxy_name = 'ngc1097'\n"
      ]
    },
    {
      "cell_type": "markdown",
      "metadata": {
        "id": "YBtqY7nAjwtV"
      },
      "source": [
        "Download the cluster and compact associataion catalogs and extract them.\n",
        "The catalog data release is described here https://archive.stsci.edu/hlsp/phangs/phangs-cat and the list of the data products can be found here: https://archive.stsci.edu/hlsp/phangs.html#hst_image_products_table \\"
      ]
    },
    {
      "cell_type": "code",
      "execution_count": 3,
      "metadata": {
        "id": "nkXeITvwgTEd"
      },
      "outputs": [],
      "source": [
        "# get the file name and the URL for the catalogs\n",
        "url_path_structure = 'https://archive.stsci.edu/hlsps/phangs-cat/dr4/bundles/'\n",
        "catalog_file_name_compressed = ('hlsp_phangs-cat_hst_acs-uvis_%s_multi_v1_cats.tar.gz' %\n",
        "                    galaxy_name)\n",
        "url = url_path_structure + catalog_file_name_compressed\n",
        "# Download compressed catalogs. This will save them in the working directory.\n",
        "http = PoolManager()\n",
        "http_request_object = http.request('GET', url, preload_content=False)\n",
        "with open(catalog_file_name_compressed, 'wb') as out:\n",
        "    while True:\n",
        "        data = http_request_object.read()\n",
        "        if not data:\n",
        "            break\n",
        "        out.write(data)\n",
        "# get the present work directory (pwd) where we will extract the file\n",
        "pwd = os.getcwd()\n",
        "src_path = pwd + '/' + catalog_file_name_compressed\n",
        "# extract the compressed files locally\n",
        "tar = tarfile.open(src_path, 'r:gz')\n",
        "tar.extractall(pwd)\n",
        "tar.close()"
      ]
    },
    {
      "cell_type": "code",
      "execution_count": 4,
      "metadata": {
        "id": "0lG4k6XpkrGX"
      },
      "outputs": [],
      "source": [
        "# some galaxies have HST image mosaics. Therefore the file names can change!\n",
        "mosaic_flag = True\n",
        "if mosaic_flag:\n",
        "  bundle_file_name = galaxy_name + 'mosaic'\n",
        "else:\n",
        "  bundle_file_name = galaxy_name"
      ]
    },
    {
      "cell_type": "code",
      "execution_count": 5,
      "metadata": {
        "id": "KDha8walDLof"
      },
      "outputs": [
        {
          "ename": "OSError",
          "evalue": "[Errno 22] Invalid argument: 'c:\\\\Users\\\\SEANM\\\\Sean\\\\Star-Cluster-VLM\\\\Star_Cluster_VLM\\\\src\\\\ngc1097mosaic\\\\hlsp_phangs-hst_hst_wfc3-uvis_ngc1097mosaic_f555w_v1_exp-drc-sci.fits'",
          "output_type": "error",
          "traceback": [
            "\u001b[1;31m---------------------------------------------------------------------------\u001b[0m",
            "\u001b[1;31mOSError\u001b[0m                                   Traceback (most recent call last)",
            "Cell \u001b[1;32mIn[5], line 17\u001b[0m\n\u001b[0;32m     15\u001b[0m \u001b[38;5;66;03m# extract the compressed files locally\u001b[39;00m\n\u001b[0;32m     16\u001b[0m tar \u001b[38;5;241m=\u001b[39m tarfile\u001b[38;5;241m.\u001b[39mopen(src_path, \u001b[38;5;124m'\u001b[39m\u001b[38;5;124mr:gz\u001b[39m\u001b[38;5;124m'\u001b[39m)\n\u001b[1;32m---> 17\u001b[0m \u001b[43mtar\u001b[49m\u001b[38;5;241;43m.\u001b[39;49m\u001b[43mextractall\u001b[49m\u001b[43m(\u001b[49m\u001b[43mpwd\u001b[49m\u001b[43m)\u001b[49m\n\u001b[0;32m     18\u001b[0m tar\u001b[38;5;241m.\u001b[39mclose()\n",
            "File \u001b[1;32mc:\\Python312\\Lib\\tarfile.py:2269\u001b[0m, in \u001b[0;36mTarFile.extractall\u001b[1;34m(self, path, members, numeric_owner, filter)\u001b[0m\n\u001b[0;32m   2264\u001b[0m     \u001b[38;5;28;01mif\u001b[39;00m tarinfo\u001b[38;5;241m.\u001b[39misdir():\n\u001b[0;32m   2265\u001b[0m         \u001b[38;5;66;03m# For directories, delay setting attributes until later,\u001b[39;00m\n\u001b[0;32m   2266\u001b[0m         \u001b[38;5;66;03m# since permissions can interfere with extraction and\u001b[39;00m\n\u001b[0;32m   2267\u001b[0m         \u001b[38;5;66;03m# extracting contents can reset mtime.\u001b[39;00m\n\u001b[0;32m   2268\u001b[0m         directories\u001b[38;5;241m.\u001b[39mappend(tarinfo)\n\u001b[1;32m-> 2269\u001b[0m     \u001b[38;5;28;43mself\u001b[39;49m\u001b[38;5;241;43m.\u001b[39;49m\u001b[43m_extract_one\u001b[49m\u001b[43m(\u001b[49m\u001b[43mtarinfo\u001b[49m\u001b[43m,\u001b[49m\u001b[43m \u001b[49m\u001b[43mpath\u001b[49m\u001b[43m,\u001b[49m\u001b[43m \u001b[49m\u001b[43mset_attrs\u001b[49m\u001b[38;5;241;43m=\u001b[39;49m\u001b[38;5;129;43;01mnot\u001b[39;49;00m\u001b[43m \u001b[49m\u001b[43mtarinfo\u001b[49m\u001b[38;5;241;43m.\u001b[39;49m\u001b[43misdir\u001b[49m\u001b[43m(\u001b[49m\u001b[43m)\u001b[49m\u001b[43m,\u001b[49m\n\u001b[0;32m   2270\u001b[0m \u001b[43m                      \u001b[49m\u001b[43mnumeric_owner\u001b[49m\u001b[38;5;241;43m=\u001b[39;49m\u001b[43mnumeric_owner\u001b[49m\u001b[43m)\u001b[49m\n\u001b[0;32m   2272\u001b[0m \u001b[38;5;66;03m# Reverse sort directories.\u001b[39;00m\n\u001b[0;32m   2273\u001b[0m directories\u001b[38;5;241m.\u001b[39msort(key\u001b[38;5;241m=\u001b[39m\u001b[38;5;28;01mlambda\u001b[39;00m a: a\u001b[38;5;241m.\u001b[39mname, reverse\u001b[38;5;241m=\u001b[39m\u001b[38;5;28;01mTrue\u001b[39;00m)\n",
            "File \u001b[1;32mc:\\Python312\\Lib\\tarfile.py:2336\u001b[0m, in \u001b[0;36mTarFile._extract_one\u001b[1;34m(self, tarinfo, path, set_attrs, numeric_owner)\u001b[0m\n\u001b[0;32m   2332\u001b[0m     \u001b[38;5;28mself\u001b[39m\u001b[38;5;241m.\u001b[39m_extract_member(tarinfo, os\u001b[38;5;241m.\u001b[39mpath\u001b[38;5;241m.\u001b[39mjoin(path, tarinfo\u001b[38;5;241m.\u001b[39mname),\n\u001b[0;32m   2333\u001b[0m                          set_attrs\u001b[38;5;241m=\u001b[39mset_attrs,\n\u001b[0;32m   2334\u001b[0m                          numeric_owner\u001b[38;5;241m=\u001b[39mnumeric_owner)\n\u001b[0;32m   2335\u001b[0m \u001b[38;5;28;01mexcept\u001b[39;00m \u001b[38;5;167;01mOSError\u001b[39;00m \u001b[38;5;28;01mas\u001b[39;00m e:\n\u001b[1;32m-> 2336\u001b[0m     \u001b[38;5;28;43mself\u001b[39;49m\u001b[38;5;241;43m.\u001b[39;49m\u001b[43m_handle_fatal_error\u001b[49m\u001b[43m(\u001b[49m\u001b[43me\u001b[49m\u001b[43m)\u001b[49m\n\u001b[0;32m   2337\u001b[0m \u001b[38;5;28;01mexcept\u001b[39;00m ExtractError \u001b[38;5;28;01mas\u001b[39;00m e:\n\u001b[0;32m   2338\u001b[0m     \u001b[38;5;28mself\u001b[39m\u001b[38;5;241m.\u001b[39m_handle_nonfatal_error(e)\n",
            "File \u001b[1;32mc:\\Python312\\Lib\\tarfile.py:2332\u001b[0m, in \u001b[0;36mTarFile._extract_one\u001b[1;34m(self, tarinfo, path, set_attrs, numeric_owner)\u001b[0m\n\u001b[0;32m   2329\u001b[0m \u001b[38;5;28mself\u001b[39m\u001b[38;5;241m.\u001b[39m_check(\u001b[38;5;124m\"\u001b[39m\u001b[38;5;124mr\u001b[39m\u001b[38;5;124m\"\u001b[39m)\n\u001b[0;32m   2331\u001b[0m \u001b[38;5;28;01mtry\u001b[39;00m:\n\u001b[1;32m-> 2332\u001b[0m     \u001b[38;5;28;43mself\u001b[39;49m\u001b[38;5;241;43m.\u001b[39;49m\u001b[43m_extract_member\u001b[49m\u001b[43m(\u001b[49m\u001b[43mtarinfo\u001b[49m\u001b[43m,\u001b[49m\u001b[43m \u001b[49m\u001b[43mos\u001b[49m\u001b[38;5;241;43m.\u001b[39;49m\u001b[43mpath\u001b[49m\u001b[38;5;241;43m.\u001b[39;49m\u001b[43mjoin\u001b[49m\u001b[43m(\u001b[49m\u001b[43mpath\u001b[49m\u001b[43m,\u001b[49m\u001b[43m \u001b[49m\u001b[43mtarinfo\u001b[49m\u001b[38;5;241;43m.\u001b[39;49m\u001b[43mname\u001b[49m\u001b[43m)\u001b[49m\u001b[43m,\u001b[49m\n\u001b[0;32m   2333\u001b[0m \u001b[43m                         \u001b[49m\u001b[43mset_attrs\u001b[49m\u001b[38;5;241;43m=\u001b[39;49m\u001b[43mset_attrs\u001b[49m\u001b[43m,\u001b[49m\n\u001b[0;32m   2334\u001b[0m \u001b[43m                         \u001b[49m\u001b[43mnumeric_owner\u001b[49m\u001b[38;5;241;43m=\u001b[39;49m\u001b[43mnumeric_owner\u001b[49m\u001b[43m)\u001b[49m\n\u001b[0;32m   2335\u001b[0m \u001b[38;5;28;01mexcept\u001b[39;00m \u001b[38;5;167;01mOSError\u001b[39;00m \u001b[38;5;28;01mas\u001b[39;00m e:\n\u001b[0;32m   2336\u001b[0m     \u001b[38;5;28mself\u001b[39m\u001b[38;5;241m.\u001b[39m_handle_fatal_error(e)\n",
            "File \u001b[1;32mc:\\Python312\\Lib\\tarfile.py:2415\u001b[0m, in \u001b[0;36mTarFile._extract_member\u001b[1;34m(self, tarinfo, targetpath, set_attrs, numeric_owner)\u001b[0m\n\u001b[0;32m   2412\u001b[0m     \u001b[38;5;28mself\u001b[39m\u001b[38;5;241m.\u001b[39m_dbg(\u001b[38;5;241m1\u001b[39m, tarinfo\u001b[38;5;241m.\u001b[39mname)\n\u001b[0;32m   2414\u001b[0m \u001b[38;5;28;01mif\u001b[39;00m tarinfo\u001b[38;5;241m.\u001b[39misreg():\n\u001b[1;32m-> 2415\u001b[0m     \u001b[38;5;28;43mself\u001b[39;49m\u001b[38;5;241;43m.\u001b[39;49m\u001b[43mmakefile\u001b[49m\u001b[43m(\u001b[49m\u001b[43mtarinfo\u001b[49m\u001b[43m,\u001b[49m\u001b[43m \u001b[49m\u001b[43mtargetpath\u001b[49m\u001b[43m)\u001b[49m\n\u001b[0;32m   2416\u001b[0m \u001b[38;5;28;01melif\u001b[39;00m tarinfo\u001b[38;5;241m.\u001b[39misdir():\n\u001b[0;32m   2417\u001b[0m     \u001b[38;5;28mself\u001b[39m\u001b[38;5;241m.\u001b[39mmakedir(tarinfo, targetpath)\n",
            "File \u001b[1;32mc:\\Python312\\Lib\\tarfile.py:2461\u001b[0m, in \u001b[0;36mTarFile.makefile\u001b[1;34m(self, tarinfo, targetpath)\u001b[0m\n\u001b[0;32m   2459\u001b[0m source\u001b[38;5;241m.\u001b[39mseek(tarinfo\u001b[38;5;241m.\u001b[39moffset_data)\n\u001b[0;32m   2460\u001b[0m bufsize \u001b[38;5;241m=\u001b[39m \u001b[38;5;28mself\u001b[39m\u001b[38;5;241m.\u001b[39mcopybufsize\n\u001b[1;32m-> 2461\u001b[0m \u001b[38;5;28;01mwith\u001b[39;00m \u001b[43mbltn_open\u001b[49m\u001b[43m(\u001b[49m\u001b[43mtargetpath\u001b[49m\u001b[43m,\u001b[49m\u001b[43m \u001b[49m\u001b[38;5;124;43m\"\u001b[39;49m\u001b[38;5;124;43mwb\u001b[39;49m\u001b[38;5;124;43m\"\u001b[39;49m\u001b[43m)\u001b[49m \u001b[38;5;28;01mas\u001b[39;00m target:\n\u001b[0;32m   2462\u001b[0m     \u001b[38;5;28;01mif\u001b[39;00m tarinfo\u001b[38;5;241m.\u001b[39msparse \u001b[38;5;129;01mis\u001b[39;00m \u001b[38;5;129;01mnot\u001b[39;00m \u001b[38;5;28;01mNone\u001b[39;00m:\n\u001b[0;32m   2463\u001b[0m         \u001b[38;5;28;01mfor\u001b[39;00m offset, size \u001b[38;5;129;01min\u001b[39;00m tarinfo\u001b[38;5;241m.\u001b[39msparse:\n",
            "\u001b[1;31mOSError\u001b[0m: [Errno 22] Invalid argument: 'c:\\\\Users\\\\SEANM\\\\Sean\\\\Star-Cluster-VLM\\\\Star_Cluster_VLM\\\\src\\\\ngc1097mosaic\\\\hlsp_phangs-hst_hst_wfc3-uvis_ngc1097mosaic_f555w_v1_exp-drc-sci.fits'"
          ]
        }
      ],
      "source": [
        "img_file_name_compressed = 'hlsp_phangs-hst_hst_wfc3-uvis_%s_multi_v1_drc-bundle.tar.gz' % bundle_file_name\n",
        "url = 'https://archive.stsci.edu/hlsps/phangs-hst/' + bundle_file_name + '/' + img_file_name_compressed\n",
        "# Download compressed image bundle. This will save them in the working directory.\n",
        "http = PoolManager()\n",
        "http_request_object = http.request('GET', url, preload_content=False)\n",
        "with open(img_file_name_compressed, 'wb') as out:\n",
        "    while True:\n",
        "        data = http_request_object.read()\n",
        "        if not data:\n",
        "            break\n",
        "        out.write(data)\n",
        "# get the present work directory (pwd) where we will extract the file\n",
        "pwd = os.getcwd()\n",
        "src_path = pwd + '/' + img_file_name_compressed\n",
        "# extract the compressed files locally\n",
        "tar = tarfile.open(src_path, 'r:gz')\n",
        "tar.extractall(pwd)\n",
        "tar.close()"
      ]
    }
  ],
  "metadata": {
    "colab": {
      "authorship_tag": "ABX9TyM83C/goEeSEYDRdQQsTrHu",
      "include_colab_link": true,
      "provenance": []
    },
    "kernelspec": {
      "display_name": "Python 3",
      "name": "python3"
    },
    "language_info": {
      "codemirror_mode": {
        "name": "ipython",
        "version": 3
      },
      "file_extension": ".py",
      "mimetype": "text/x-python",
      "name": "python",
      "nbconvert_exporter": "python",
      "pygments_lexer": "ipython3",
      "version": "3.12.2"
    }
  },
  "nbformat": 4,
  "nbformat_minor": 0
}
