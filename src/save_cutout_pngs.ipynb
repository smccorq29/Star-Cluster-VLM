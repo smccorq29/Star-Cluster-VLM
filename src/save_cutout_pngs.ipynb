{
 "cells": [
  {
   "cell_type": "markdown",
   "metadata": {},
   "source": [
    "This notebook is used to download image cutouts locally to be used for model training and validation.\n",
    "\n",
    "Warning: some code blocks in this notebook download over 1,000 images. Please only run this file if you wish to download\n",
    "the images."
   ]
  },
  {
   "cell_type": "code",
   "execution_count": 1,
   "metadata": {},
   "outputs": [
    {
     "name": "stderr",
     "output_type": "stream",
     "text": [
      "WARNING: Ignoring invalid distribution ~ (C:\\Python312\\Lib\\site-packages)\n",
      "WARNING: Ignoring invalid distribution ~ip (C:\\Python312\\Lib\\site-packages)\n",
      "WARNING: Ignoring invalid distribution ~~p (C:\\Python312\\Lib\\site-packages)\n",
      "WARNING: Ignoring invalid distribution ~ (C:\\Python312\\Lib\\site-packages)\n",
      "WARNING: Ignoring invalid distribution ~ip (C:\\Python312\\Lib\\site-packages)\n",
      "WARNING: Ignoring invalid distribution ~~p (C:\\Python312\\Lib\\site-packages)\n",
      "WARNING: Ignoring invalid distribution ~ (C:\\Python312\\Lib\\site-packages)\n",
      "WARNING: Ignoring invalid distribution ~ip (C:\\Python312\\Lib\\site-packages)\n",
      "WARNING: Ignoring invalid distribution ~~p (C:\\Python312\\Lib\\site-packages)\n"
     ]
    },
    {
     "name": "stdout",
     "output_type": "stream",
     "text": [
      "Requirement already satisfied: dust_extinction in c:\\python312\\lib\\site-packages (1.5)\n",
      "Requirement already satisfied: astropy in c:\\python312\\lib\\site-packages (from dust_extinction) (6.1.4)\n",
      "Requirement already satisfied: scipy in c:\\python312\\lib\\site-packages (from dust_extinction) (1.14.1)\n",
      "Requirement already satisfied: numpy>=1.23 in c:\\users\\seanm\\appdata\\roaming\\python\\python312\\site-packages (from astropy->dust_extinction) (2.0.2)\n",
      "Requirement already satisfied: pyerfa>=2.0.1.1 in c:\\python312\\lib\\site-packages (from astropy->dust_extinction) (2.0.1.4)\n",
      "Requirement already satisfied: astropy-iers-data>=0.2024.8.27.10.28.29 in c:\\python312\\lib\\site-packages (from astropy->dust_extinction) (0.2024.10.21.0.33.21)\n",
      "Requirement already satisfied: PyYAML>=3.13 in c:\\users\\seanm\\appdata\\roaming\\python\\python312\\site-packages (from astropy->dust_extinction) (6.0.2)\n",
      "Requirement already satisfied: packaging>=19.0 in c:\\users\\seanm\\appdata\\roaming\\python\\python312\\site-packages (from astropy->dust_extinction) (24.1)\n"
     ]
    }
   ],
   "source": [
    "# packages needed to for file management,\n",
    "# downloading and unpacking compressed catalogs.\n",
    "\n",
    "from urllib3 import PoolManager\n",
    "\n",
    "\n",
    "# basic packages for data handling and plotting\n",
    "import numpy as np\n",
    "\n",
    "import matplotlib.pyplot as plt\n",
    "from matplotlib.colors import LogNorm\n",
    "import os\n",
    "import shutil\n",
    "from sklearn.model_selection import train_test_split\n",
    "\n",
    "from astropy.io import fits\n",
    "from astropy.table import Table\n",
    "\n",
    "from astropy.coordinates import SkyCoord\n",
    "from astropy.wcs import WCS\n",
    "from astropy.stats import sigma_clipped_stats\n",
    "\n",
    "from scipy.constants import c as speed_of_light\n",
    "\n",
    "# we download a file with multiple helpfull methods from the same git repository.\n",
    "# These functions are well documented to facilitate further reading.\n",
    "helper_func_url = 'https://raw.githubusercontent.com/DanielMaschmann/PHANGS_HST_star_cluster/main/helper_func.py'\n",
    "# Download file. This will save them in the working directory.\n",
    "http = PoolManager()\n",
    "http_request_object = http.request('GET', helper_func_url, preload_content=False)\n",
    "with open('helper_func.py', 'wb') as out:\n",
    "    while True:\n",
    "        data = http_request_object.read()\n",
    "        if not data:\n",
    "            break\n",
    "        out.write(data)\n",
    "\n",
    "!pip install dust_extinction\n",
    "\n",
    "# in case of updates\n",
    "%load_ext autoreload\n",
    "%autoreload 2\n",
    "import importlib\n",
    "import helper_func as helper_func\n",
    "mylibrary = importlib.reload(helper_func)"
   ]
  },
  {
   "cell_type": "code",
   "execution_count": 2,
   "metadata": {},
   "outputs": [],
   "source": [
    "# we use NGC ngc1097 as an example\n",
    "galaxy_name = 'ngc1097'"
   ]
  },
  {
   "cell_type": "code",
   "execution_count": 3,
   "metadata": {},
   "outputs": [],
   "source": [
    "# some galaxies have HST image mosaics. Therefore the file names can change!\n",
    "mosaic_flag = True\n",
    "if mosaic_flag:\n",
    "  bundle_file_name = galaxy_name + 'mosaic'\n",
    "else:\n",
    "  bundle_file_name = galaxy_name"
   ]
  },
  {
   "cell_type": "code",
   "execution_count": 4,
   "metadata": {},
   "outputs": [
    {
     "data": {
      "text/html": [
       "<div><i>Table length=1182</i>\n",
       "<table id=\"table2048940372384\" class=\"table-striped table-bordered table-condensed\">\n",
       "<thead><tr><th>INDEX</th><th>ID_PHANGS_CLUSTER</th><th>ID_PHANGS_CANDIDATE</th><th>ID_PHANGS_ALLSOURCES</th><th>PHANGS_X</th><th>PHANGS_Y</th><th>PHANGS_RA</th><th>PHANGS_DEC</th><th>PHANGS_GALAXY</th><th>PHANGS_DM_1</th><th>PHANGS_DMPC_1</th><th>PHANGS_DERR_1</th><th>PHANGS_CLUSTER_CLASS_HUMAN</th><th>PHANGS_CLUSTER_CLASS_ML_VGG</th><th>PHANGS_CLUSTER_CLASS_ML_VGG_QUAL</th><th>PHANGS_CLUSTER_CLASS_ML_VGG_CORR</th></tr></thead>\n",
       "<thead><tr><th></th><th></th><th></th><th></th><th></th><th></th><th>deg</th><th>deg</th><th></th><th></th><th></th><th></th><th></th><th></th><th></th><th></th></tr></thead>\n",
       "<thead><tr><th>int64</th><th>int64</th><th>int64</th><th>int64</th><th>float64</th><th>float64</th><th>float64</th><th>float64</th><th>bytes7</th><th>float64</th><th>float64</th><th>float64</th><th>float64</th><th>int64</th><th>float64</th><th>int64</th></tr></thead>\n",
       "<tr><td>5</td><td>-999</td><td>5</td><td>1813</td><td>4975.44</td><td>1940.57</td><td>41.59600896122001</td><td>-30.322652612237484</td><td>ngc1097</td><td>30.664498849722413</td><td>13.58</td><td>2.04</td><td>9.0</td><td>9</td><td>0.7</td><td>9</td></tr>\n",
       "<tr><td>26</td><td>-999</td><td>26</td><td>654</td><td>5441.44</td><td>2110.12</td><td>41.59006743234052</td><td>-30.32078707718581</td><td>ngc1097</td><td>30.664498849722413</td><td>13.58</td><td>2.04</td><td>9.0</td><td>9</td><td>0.9</td><td>9</td></tr>\n",
       "<tr><td>38</td><td>19</td><td>38</td><td>5602</td><td>4801.12</td><td>2219.94</td><td>41.59823102243026</td><td>-30.3195777525278</td><td>ngc1097</td><td>30.664498849722413</td><td>13.58</td><td>2.04</td><td>1.0</td><td>1</td><td>1.0</td><td>1</td></tr>\n",
       "<tr><td>52</td><td>25</td><td>52</td><td>3285</td><td>5384.11</td><td>2276.07</td><td>41.59079821677067</td><td>-30.31896066464826</td><td>ngc1097</td><td>30.664498849722413</td><td>13.58</td><td>2.04</td><td>3.0</td><td>2</td><td>0.7</td><td>2</td></tr>\n",
       "<tr><td>59</td><td>28</td><td>59</td><td>1211</td><td>5385.52</td><td>2284.88</td><td>41.59078023253215</td><td>-30.318863706825663</td><td>ngc1097</td><td>30.664498849722413</td><td>13.58</td><td>2.04</td><td>2.0</td><td>2</td><td>1.0</td><td>2</td></tr>\n",
       "<tr><td>79</td><td>39</td><td>79</td><td>4435</td><td>5328.34</td><td>2323.84</td><td>41.591509198913045</td><td>-30.31843488517973</td><td>ngc1097</td><td>30.664498849722413</td><td>13.58</td><td>2.04</td><td>2.0</td><td>2</td><td>1.0</td><td>2</td></tr>\n",
       "<tr><td>99</td><td>-999</td><td>99</td><td>6097</td><td>4987.59</td><td>2381.69</td><td>41.59585341300243</td><td>-30.317797859628545</td><td>ngc1097</td><td>30.664498849722413</td><td>13.58</td><td>2.04</td><td>5.0</td><td>5</td><td>0.9</td><td>5</td></tr>\n",
       "<tr><td>114</td><td>-999</td><td>114</td><td>8021</td><td>5149.72</td><td>2422.29</td><td>41.5937863455209</td><td>-30.317351220857812</td><td>ngc1097</td><td>30.664498849722413</td><td>13.58</td><td>2.04</td><td>5.0</td><td>5</td><td>1.0</td><td>5</td></tr>\n",
       "<tr><td>117</td><td>64</td><td>117</td><td>4479</td><td>4541.11</td><td>2447.51</td><td>41.601545511721106</td><td>-30.3170727926211</td><td>ngc1097</td><td>30.664498849722413</td><td>13.58</td><td>2.04</td><td>1.0</td><td>1</td><td>0.7</td><td>1</td></tr>\n",
       "<tr><td>...</td><td>...</td><td>...</td><td>...</td><td>...</td><td>...</td><td>...</td><td>...</td><td>...</td><td>...</td><td>...</td><td>...</td><td>...</td><td>...</td><td>...</td><td>...</td></tr>\n",
       "<tr><td>7029</td><td>3847</td><td>7029</td><td>5841</td><td>6780.53</td><td>9187.68</td><td>41.573002565959655</td><td>-30.242894426362056</td><td>ngc1097</td><td>30.664498849722413</td><td>13.58</td><td>2.04</td><td>1.0</td><td>1</td><td>1.0</td><td>1</td></tr>\n",
       "<tr><td>7040</td><td>3852</td><td>7040</td><td>369</td><td>6918.02</td><td>9201.74</td><td>41.571251042501395</td><td>-30.242739544314258</td><td>ngc1097</td><td>30.664498849722413</td><td>13.58</td><td>2.04</td><td>2.0</td><td>2</td><td>0.5</td><td>2</td></tr>\n",
       "<tr><td>7041</td><td>-999</td><td>7041</td><td>10012</td><td>7138.95</td><td>9202.21</td><td>41.56843652922171</td><td>-30.24273409152142</td><td>ngc1097</td><td>30.664498849722413</td><td>13.58</td><td>2.04</td><td>5.0</td><td>5</td><td>0.6</td><td>5</td></tr>\n",
       "<tr><td>7043</td><td>-999</td><td>7043</td><td>5943</td><td>6991.75</td><td>9203.53</td><td>41.570311769602135</td><td>-30.242719757561296</td><td>ngc1097</td><td>30.664498849722413</td><td>13.58</td><td>2.04</td><td>13.0</td><td>13</td><td>0.5</td><td>13</td></tr>\n",
       "<tr><td>7054</td><td>3859</td><td>7054</td><td>3451</td><td>7073.38</td><td>9211.22</td><td>41.56927186497316</td><td>-30.242635020939915</td><td>ngc1097</td><td>30.664498849722413</td><td>13.58</td><td>2.04</td><td>1.0</td><td>1</td><td>1.0</td><td>1</td></tr>\n",
       "<tr><td>7070</td><td>3869</td><td>7070</td><td>665</td><td>6733.64</td><td>9224.81</td><td>41.573599955971964</td><td>-30.24248583402656</td><td>ngc1097</td><td>30.664498849722413</td><td>13.58</td><td>2.04</td><td>3.0</td><td>-999</td><td>0.9</td><td>-999</td></tr>\n",
       "<tr><td>7077</td><td>3874</td><td>7077</td><td>3999</td><td>6975.51</td><td>9228.57</td><td>41.57051869220304</td><td>-30.24244419825967</td><td>ngc1097</td><td>30.664498849722413</td><td>13.58</td><td>2.04</td><td>2.0</td><td>2</td><td>0.7</td><td>2</td></tr>\n",
       "<tr><td>7116</td><td>3897</td><td>7116</td><td>5457</td><td>6901.27</td><td>9327.56</td><td>41.571464589369455</td><td>-30.241354844675897</td><td>ngc1097</td><td>30.664498849722413</td><td>13.58</td><td>2.04</td><td>1.0</td><td>1</td><td>1.0</td><td>1</td></tr>\n",
       "<tr><td>7122</td><td>-999</td><td>7122</td><td>1027</td><td>7201.86</td><td>9342.92</td><td>41.56763533569357</td><td>-30.241185409680416</td><td>ngc1097</td><td>30.664498849722413</td><td>13.58</td><td>2.04</td><td>19.0</td><td>19</td><td>1.0</td><td>19</td></tr>\n",
       "</table></div>"
      ],
      "text/plain": [
       "<Table length=1182>\n",
       "INDEX ID_PHANGS_CLUSTER ... PHANGS_CLUSTER_CLASS_ML_VGG_CORR\n",
       "                        ...                                 \n",
       "int64       int64       ...              int64              \n",
       "----- ----------------- ... --------------------------------\n",
       "    5              -999 ...                                9\n",
       "   26              -999 ...                                9\n",
       "   38                19 ...                                1\n",
       "   52                25 ...                                2\n",
       "   59                28 ...                                2\n",
       "   79                39 ...                                2\n",
       "   99              -999 ...                                5\n",
       "  114              -999 ...                                5\n",
       "  117                64 ...                                1\n",
       "  ...               ... ...                              ...\n",
       " 7029              3847 ...                                1\n",
       " 7040              3852 ...                                2\n",
       " 7041              -999 ...                                5\n",
       " 7043              -999 ...                               13\n",
       " 7054              3859 ...                                1\n",
       " 7070              3869 ...                             -999\n",
       " 7077              3874 ...                                2\n",
       " 7116              3897 ...                                1\n",
       " 7122              -999 ...                               19"
      ]
     },
     "execution_count": 4,
     "metadata": {},
     "output_type": "execute_result"
    }
   ],
   "source": [
    "fits_table = Table.read('../data/valid_detections.fits')\n",
    "fits_table"
   ]
  },
  {
   "cell_type": "code",
   "execution_count": 5,
   "metadata": {},
   "outputs": [
    {
     "name": "stdout",
     "output_type": "stream",
     "text": [
      "[np.float64(1.0), np.float64(2.0), np.float64(3.0), np.float64(4.0), np.float64(5.0), np.float64(6.0), np.float64(7.0), np.float64(8.0), np.float64(9.0), np.float64(10.0), np.float64(13.0), np.float64(15.0), np.float64(16.0), np.float64(19.0)]\n"
     ]
    }
   ],
   "source": [
    "def get_unique_labels(fits_table, column_name='PHANGS_CLUSTER_CLASS_HUMAN'):\n",
    "\n",
    "    # Open the FITS file and load the data\n",
    "    with fits.open(fits_table) as hdul:\n",
    "        data = hdul[1].data  # Usually, tables are in the first extension (hdul[1])\n",
    "\n",
    "    # Extract the relevant column safely\n",
    "    labels = data[column_name]\n",
    "\n",
    "    # Get unique labels\n",
    "    unique_labels = list(set(labels))\n",
    "\n",
    "    return unique_labels\n",
    "\n",
    "# Example usage\n",
    "fits_file = \"../data/valid_detections.fits\"\n",
    "unique_labels = get_unique_labels(fits_file)\n",
    "print(unique_labels)\n"
   ]
  },
  {
   "cell_type": "code",
   "execution_count": 6,
   "metadata": {},
   "outputs": [],
   "source": [
    "# get all data we need for the following examples\n",
    "# coordinates\n",
    "ra_hum_cl, dec_hum_cl = fits_table['PHANGS_RA'], fits_table['PHANGS_DEC']\n",
    "\n",
    "# morphological classification\n",
    "class_human_hum_cl = fits_table['PHANGS_CLUSTER_CLASS_HUMAN']"
   ]
  },
  {
   "cell_type": "code",
   "execution_count": 7,
   "metadata": {},
   "outputs": [
    {
     "name": "stderr",
     "output_type": "stream",
     "text": [
      "C:\\Users\\SEANM\\AppData\\Local\\Temp\\ipykernel_20580\\3871222887.py:25: RuntimeWarning: divide by zero encountered in divide\n",
      "  v_band_err_data = 1 / np.sqrt(v_band_invers_var_data)\n"
     ]
    }
   ],
   "source": [
    "# load the downloaded images\n",
    "v_band_img_hdu = fits.open('%s/hlsp_phangs-hst_hst_wfc3-uvis_%s_f555w_v1_exp-drc-sci.fits' % (bundle_file_name, bundle_file_name))\n",
    "v_band_img_header = v_band_img_hdu[0].header\n",
    "v_band_img_data = v_band_img_hdu[0].data\n",
    "v_band_img_wcs = WCS(v_band_img_header)\n",
    "\n",
    "# change the image data from electron counts to units of Jy\n",
    "# wavelength in angstrom\n",
    "pivot_wavelength = v_band_img_header['PHOTPLAM']\n",
    "# inverse sensitivity, ergs/cm2/Ang/electron\n",
    "sensitivity = v_band_img_header['PHOTFLAM']\n",
    "# speed of light in Angstrom/s\n",
    "c = speed_of_light * 1e10\n",
    "# change the conversion facto to get erg s−1 cm−2 Hz−1\n",
    "f_nu = sensitivity * pivot_wavelength ** 2 / c\n",
    "# change to get Jy\n",
    "conversion_factor = f_nu * 1e23\n",
    "# apply the conversion factor to the data\n",
    "v_band_img_data *= conversion_factor\n",
    "\n",
    "# this is not used in this tutorial but for completeness here we will load the uncertainty maps\n",
    "v_band_invers_var_hdu = fits.open('%s/hlsp_phangs-hst_hst_wfc3-uvis_%s_f555w_v1_err-drc-wht.fits' % (bundle_file_name, bundle_file_name))\n",
    "v_band_invers_var_data = v_band_invers_var_hdu[0].data\n",
    "# the uncertainties are stored as inverse variance so we need to convert them into the standard deviation.\n",
    "v_band_err_data = 1 / np.sqrt(v_band_invers_var_data)\n",
    "# and again we need to apply the conversion factor to these data\n",
    "v_band_err_data *= conversion_factor\n",
    "\n"
   ]
  },
  {
   "cell_type": "code",
   "execution_count": 8,
   "metadata": {},
   "outputs": [],
   "source": [
    "# in order to visualize the image we calculate some states of the image and calculate a strech.\n",
    "mean, median, std = sigma_clipped_stats(v_band_img_data, sigma=3.0)\n",
    "norm = LogNorm(0.1*std, median + 100*std)\n",
    "\n",
    "coords_hum_cl = SkyCoord(ra=ra_hum_cl, dec=dec_hum_cl)\n",
    "coords_hum_cl_pix = v_band_img_wcs.world_to_pixel(coords_hum_cl)\n"
   ]
  },
  {
   "cell_type": "code",
   "execution_count": 9,
   "metadata": {},
   "outputs": [],
   "source": [
    "# cutout of random class 1, 2, 3 clusters\n",
    "mask_class1 = class_human_hum_cl == 1\n",
    "mask_class2 = class_human_hum_cl == 2\n",
    "mask_class3 = class_human_hum_cl == 3\n",
    "mask_class4 = class_human_hum_cl == 4\n",
    "mask_class5 = class_human_hum_cl == 5\n",
    "mask_class6 = class_human_hum_cl == 6\n",
    "mask_class7 = class_human_hum_cl == 7\n",
    "mask_class8 = class_human_hum_cl == 8\n",
    "mask_class9 = class_human_hum_cl == 9\n",
    "mask_class10 = class_human_hum_cl == 10\n",
    "\n",
    "mask_class13 = class_human_hum_cl == 13\n",
    "\n",
    "mask_class15 = class_human_hum_cl == 15\n",
    "mask_class16 = class_human_hum_cl == 16\n",
    "\n",
    "mask_class19 = class_human_hum_cl == 19\n",
    "\n",
    "coord_bright_class1 = coords_hum_cl[mask_class1][101]\n",
    "coord_bright_class2 = coords_hum_cl[mask_class2][13]\n",
    "coord_bright_class3 = coords_hum_cl[mask_class3][1]\n",
    "coord_bright_class4 = coords_hum_cl[mask_class4][0]\n",
    "\n",
    "\n",
    "cutout_bright_class1 = helper_func.get_img_cutout(img=v_band_img_data,\n",
    "                                                  wcs=v_band_img_wcs,\n",
    "                                                  coord=coord_bright_class1,\n",
    "                                                  cutout_size=(2, 2))\n",
    "cutout_bright_class2 = helper_func.get_img_cutout(img=v_band_img_data,\n",
    "                                                  wcs=v_band_img_wcs,\n",
    "                                                  coord=coord_bright_class2,\n",
    "                                                  cutout_size=(2, 2))\n",
    "cutout_bright_class3 = helper_func.get_img_cutout(img=v_band_img_data,\n",
    "                                                  wcs=v_band_img_wcs,\n",
    "                                                  coord=coord_bright_class3,\n",
    "                                                  cutout_size=(2, 2))\n",
    "cutout_bright_class4 = helper_func.get_img_cutout(img=v_band_img_data,\n",
    "                                                  wcs=v_band_img_wcs,\n",
    "                                                  coord=coord_bright_class4,\n",
    "                                                  cutout_size=(2, 2))\n",
    "\n",
    "def get_coords(class_num):\n",
    "\n",
    "    mask_class = class_human_hum_cl == class_num\n",
    "\n",
    "    coord_bright_class = coords_hum_cl[mask_class]\n",
    "\n",
    "    cutouts_class = [\n",
    "        helper_func.get_img_cutout(img=v_band_img_data, wcs=v_band_img_wcs, coord=coords_bright_class[i], cutout_size=(2, 2))\n",
    "    ]"
   ]
  },
  {
   "cell_type": "code",
   "execution_count": 10,
   "metadata": {},
   "outputs": [],
   "source": [
    "def get_class_cutouts(class_num, cutout_size=(2, 2)):\n",
    "\n",
    "    mask_class = class_human_hum_cl == class_num\n",
    "\n",
    "    # Get the coordinates for the given class\n",
    "    coords_bright_class = coords_hum_cl[mask_class]\n",
    "\n",
    "    # Extract cutouts for the class\n",
    "    cutouts_class = []\n",
    "    for coord in coords_bright_class:\n",
    "        cutout = helper_func.get_img_cutout(img=v_band_img_data, wcs=v_band_img_wcs, coord=coord, cutout_size=cutout_size)\n",
    "        cutouts_class.append(cutout)\n",
    "\n",
    "    return cutouts_class\n",
    "\n",
    "\n"
   ]
  },
  {
   "cell_type": "code",
   "execution_count": 11,
   "metadata": {},
   "outputs": [
    {
     "data": {
      "text/plain": [
       "(np.float64(-0.5), np.float64(49.5), np.float64(-0.5), np.float64(49.5))"
      ]
     },
     "execution_count": 11,
     "metadata": {},
     "output_type": "execute_result"
    },
    {
     "data": {
      "image/png": "[encoded data removed]",
      "text/plain": [
       "<Figure size 4000x1000 with 4 Axes>"
      ]
     },
     "metadata": {},
     "output_type": "display_data"
    }
   ],
   "source": [
    "\n",
    "figure_cutouts = plt.figure(figsize=(40, 10))\n",
    "\n",
    "ax_cutout_class1 = figure_cutouts.add_axes([0.01, 0.05, 0.23, 0.94], projection=cutout_bright_class1.wcs)\n",
    "ax_cutout_class2 = figure_cutouts.add_axes([0.26, 0.05, 0.23, 0.94], projection=cutout_bright_class2.wcs)\n",
    "ax_cutout_class3 = figure_cutouts.add_axes([0.51, 0.05, 0.23, 0.94], projection=cutout_bright_class3.wcs)\n",
    "ax_cutout_class4 = figure_cutouts.add_axes([0.76, 0.05, 0.23, 0.94], projection=cutout_bright_class4.wcs)\n",
    "\n",
    "ax_cutout_class1.imshow(get_class_cutouts(1)[300].data, norm=LogNorm(), cmap='Greys')\n",
    "ax_cutout_class2.imshow(cutout_bright_class2.data, norm=LogNorm(), cmap='Greys')\n",
    "ax_cutout_class3.imshow(cutout_bright_class3.data, norm=LogNorm(), cmap='Greys')\n",
    "ax_cutout_class4.imshow(cutout_bright_class4.data, norm=LogNorm(), cmap='Greys')\n",
    "\n",
    "ax_cutout_class1.set_title('Class 1', fontsize=30)\n",
    "ax_cutout_class2.set_title('Class 2', fontsize=30)\n",
    "ax_cutout_class3.set_title('Class 3', fontsize=30)\n",
    "ax_cutout_class4.set_title('Class 4', fontsize=30)\n",
    "\n",
    "\n",
    "ax_cutout_class1.axis(\"Off\")\n",
    "ax_cutout_class2.axis(\"Off\")\n",
    "ax_cutout_class3.axis(\"Off\")\n",
    "ax_cutout_class4.axis(\"Off\")"
   ]
  },
  {
   "cell_type": "markdown",
   "metadata": {},
   "source": [
    "This code downloads all images from the data set into a folder named cutouts_png."
   ]
  },
  {
   "cell_type": "code",
   "execution_count": null,
   "metadata": {},
   "outputs": [],
   "source": [
    "def save_cutouts_as_png(class_num):\n",
    "\n",
    "    # Create output directory if it doesn't exist\n",
    "    output_dir = \"../data/cutout_pngs\"\n",
    "    class_output_dir = os.path.join(output_dir, str(class_num))\n",
    "    if not os.path.exists(class_output_dir):\n",
    "        os.makedirs(class_output_dir)\n",
    "\n",
    "    # Get cutouts for each coordinate using your working method (assuming it's called get_cutouts)\n",
    "    cutouts = get_class_cutouts(class_num)\n",
    "\n",
    "    # Iterate through the cutouts and save them as PNG\n",
    "    for idx, cutout in enumerate(cutouts):\n",
    "        if cutout is None or cutout.data is None:\n",
    "            print(f\"Warning: No data found for cutout {idx + 1} for class {class_num}. Skipping.\")\n",
    "            continue\n",
    "\n",
    "        # Create a filename for each image\n",
    "        filename = os.path.join(class_output_dir, f\"class_{class_num}_cutout_{idx + 1}.png\")\n",
    "\n",
    "        fig = plt.figure(figsize=(2, 2), dpi=300)  \n",
    "        ax = fig.add_axes([0, 0, 1, 1]) \n",
    "        ax.imshow(cutout.data, cmap='Greys', norm=LogNorm(), origin='lower')\n",
    "        ax.set_xticks([])  \n",
    "        ax.set_yticks([])\n",
    "\n",
    "        plt.savefig(filename, dpi=300)\n",
    "        plt.close(fig) \n",
    "\n",
    "for i in unique_labels:\n",
    "\n",
    "    save_cutouts_as_png(i)\n"
   ]
  },
  {
   "cell_type": "markdown",
   "metadata": {},
   "source": [
    "This code creates a stratified split of training and validation data sets from the previously downloaded images."
   ]
  },
  {
   "cell_type": "code",
   "execution_count": null,
   "metadata": {},
   "outputs": [
    {
     "name": "stdout",
     "output_type": "stream",
     "text": [
      "Data split into training and test sets successfully!\n"
     ]
    }
   ],
   "source": [
    "\n",
    "# Define the root directory where the class folders are stored\n",
    "root_dir = \"../data/cutout_pngs\"  \n",
    "train_dir = \"../data/sorted/train_pngs\"  \n",
    "test_dir = \"../data/sorted/test_pngs\"    \n",
    "\n",
    "image_paths = []\n",
    "labels = []\n",
    "\n",
    "# Iterate through each class folder\n",
    "for class_num in os.listdir(root_dir):\n",
    "    class_path = os.path.join(root_dir, class_num)\n",
    "    if os.path.isdir(class_path): \n",
    "        for img_file in os.listdir(class_path):\n",
    "            if img_file.endswith('.png'):\n",
    "                img_path = os.path.join(class_path, img_file)\n",
    "                image_paths.append(img_path)\n",
    "                labels.append(class_num)  \n",
    "\n",
    "# Perform stratified split: 80% train, 20% test\n",
    "train_images, test_images, train_labels, test_labels = train_test_split(\n",
    "    image_paths, labels, test_size=0.2, random_state=42, stratify=labels\n",
    ")\n",
    "\n",
    "# Create the directories for train/test splits\n",
    "os.makedirs(train_dir, exist_ok=True)\n",
    "os.makedirs(test_dir, exist_ok=True)\n",
    "\n",
    "# Now, create subdirectories for each class in the train and test directories\n",
    "for class_num in set(labels):  \n",
    "    os.makedirs(os.path.join(train_dir, class_num), exist_ok=True)\n",
    "    os.makedirs(os.path.join(test_dir, class_num), exist_ok=True)\n",
    "\n",
    "# Function to move images to the appropriate directories\n",
    "def move_images(image_list, target_dir, labels):\n",
    "    for img, label in zip(image_list, labels):\n",
    "        target_path = os.path.join(target_dir, label, os.path.basename(img))\n",
    "        shutil.copy(img, target_path)\n",
    "\n",
    "# Move training images\n",
    "move_images(train_images, train_dir, train_labels)\n",
    "\n",
    "# Move testing images\n",
    "move_images(test_images, test_dir, test_labels)\n",
    "\n",
    "print(\"Data split into training and test sets successfully!\")"
   ]
  }
 ],
 "metadata": {
  "kernelspec": {
   "display_name": "Python 3",
   "language": "python",
   "name": "python3"
  },
  "language_info": {
   "codemirror_mode": {
    "name": "ipython",
    "version": 3
   },
   "file_extension": ".py",
   "mimetype": "text/x-python",
   "name": "python",
   "nbconvert_exporter": "python",
   "pygments_lexer": "ipython3",
   "version": "3.12.2"
  }
 },
 "nbformat": 4,
 "nbformat_minor": 2
}
